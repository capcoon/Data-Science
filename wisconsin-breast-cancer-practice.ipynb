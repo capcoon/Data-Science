{
 "cells": [
  {
   "cell_type": "markdown",
   "metadata": {},
   "source": [
    "# Prediction of breast cancer using Wisconsin breast cancer Dataset"
   ]
  },
  {
   "cell_type": "code",
   "execution_count": 1,
   "metadata": {
    "execution": {
     "iopub.execute_input": "2021-10-22T15:32:37.678896Z",
     "iopub.status.busy": "2021-10-22T15:32:37.678619Z",
     "iopub.status.idle": "2021-10-22T15:32:37.683359Z",
     "shell.execute_reply": "2021-10-22T15:32:37.682405Z",
     "shell.execute_reply.started": "2021-10-22T15:32:37.678868Z"
    }
   },
   "outputs": [],
   "source": [
    "import pandas as pd\n",
    "import numpy as np"
   ]
  },
  {
   "cell_type": "code",
   "execution_count": 2,
   "metadata": {
    "execution": {
     "iopub.execute_input": "2021-10-22T15:32:39.875162Z",
     "iopub.status.busy": "2021-10-22T15:32:39.874871Z",
     "iopub.status.idle": "2021-10-22T15:32:39.883397Z",
     "shell.execute_reply": "2021-10-22T15:32:39.882586Z",
     "shell.execute_reply.started": "2021-10-22T15:32:39.875130Z"
    }
   },
   "outputs": [
    {
     "data": {
      "text/plain": [
       "'C:\\\\Users\\\\euise\\\\Documents\\\\python practice\\\\wisconsin_breast_cancer'"
      ]
     },
     "execution_count": 2,
     "metadata": {},
     "output_type": "execute_result"
    }
   ],
   "source": [
    "pwd\n"
   ]
  },
  {
   "cell_type": "code",
   "execution_count": 2,
   "metadata": {
    "execution": {
     "iopub.execute_input": "2021-10-22T15:32:42.297607Z",
     "iopub.status.busy": "2021-10-22T15:32:42.296687Z",
     "iopub.status.idle": "2021-10-22T15:32:42.302136Z",
     "shell.execute_reply": "2021-10-22T15:32:42.301529Z",
     "shell.execute_reply.started": "2021-10-22T15:32:42.297545Z"
    }
   },
   "outputs": [],
   "source": [
    "import os"
   ]
  },
  {
   "cell_type": "code",
   "execution_count": 3,
   "metadata": {
    "execution": {
     "iopub.execute_input": "2021-10-22T15:32:45.230769Z",
     "iopub.status.busy": "2021-10-22T15:32:45.230452Z",
     "iopub.status.idle": "2021-10-22T15:32:45.260588Z",
     "shell.execute_reply": "2021-10-22T15:32:45.259889Z",
     "shell.execute_reply.started": "2021-10-22T15:32:45.230736Z"
    }
   },
   "outputs": [],
   "source": [
    "data = pd.read_csv('data.csv')"
   ]
  },
  {
   "cell_type": "code",
   "execution_count": 4,
   "metadata": {
    "execution": {
     "iopub.execute_input": "2021-10-22T15:32:47.586088Z",
     "iopub.status.busy": "2021-10-22T15:32:47.585774Z",
     "iopub.status.idle": "2021-10-22T15:32:47.631459Z",
     "shell.execute_reply": "2021-10-22T15:32:47.630867Z",
     "shell.execute_reply.started": "2021-10-22T15:32:47.586043Z"
    }
   },
   "outputs": [
    {
     "data": {
      "text/html": [
       "<div>\n",
       "<style scoped>\n",
       "    .dataframe tbody tr th:only-of-type {\n",
       "        vertical-align: middle;\n",
       "    }\n",
       "\n",
       "    .dataframe tbody tr th {\n",
       "        vertical-align: top;\n",
       "    }\n",
       "\n",
       "    .dataframe thead th {\n",
       "        text-align: right;\n",
       "    }\n",
       "</style>\n",
       "<table border=\"1\" class=\"dataframe\">\n",
       "  <thead>\n",
       "    <tr style=\"text-align: right;\">\n",
       "      <th></th>\n",
       "      <th>id</th>\n",
       "      <th>diagnosis</th>\n",
       "      <th>radius_mean</th>\n",
       "      <th>texture_mean</th>\n",
       "      <th>perimeter_mean</th>\n",
       "      <th>area_mean</th>\n",
       "      <th>smoothness_mean</th>\n",
       "      <th>compactness_mean</th>\n",
       "      <th>concavity_mean</th>\n",
       "      <th>concave points_mean</th>\n",
       "      <th>...</th>\n",
       "      <th>texture_worst</th>\n",
       "      <th>perimeter_worst</th>\n",
       "      <th>area_worst</th>\n",
       "      <th>smoothness_worst</th>\n",
       "      <th>compactness_worst</th>\n",
       "      <th>concavity_worst</th>\n",
       "      <th>concave points_worst</th>\n",
       "      <th>symmetry_worst</th>\n",
       "      <th>fractal_dimension_worst</th>\n",
       "      <th>Unnamed: 32</th>\n",
       "    </tr>\n",
       "  </thead>\n",
       "  <tbody>\n",
       "    <tr>\n",
       "      <th>0</th>\n",
       "      <td>842302</td>\n",
       "      <td>M</td>\n",
       "      <td>17.99</td>\n",
       "      <td>10.38</td>\n",
       "      <td>122.80</td>\n",
       "      <td>1001.0</td>\n",
       "      <td>0.11840</td>\n",
       "      <td>0.27760</td>\n",
       "      <td>0.30010</td>\n",
       "      <td>0.14710</td>\n",
       "      <td>...</td>\n",
       "      <td>17.33</td>\n",
       "      <td>184.60</td>\n",
       "      <td>2019.0</td>\n",
       "      <td>0.1622</td>\n",
       "      <td>0.6656</td>\n",
       "      <td>0.7119</td>\n",
       "      <td>0.2654</td>\n",
       "      <td>0.4601</td>\n",
       "      <td>0.11890</td>\n",
       "      <td>NaN</td>\n",
       "    </tr>\n",
       "    <tr>\n",
       "      <th>1</th>\n",
       "      <td>842517</td>\n",
       "      <td>M</td>\n",
       "      <td>20.57</td>\n",
       "      <td>17.77</td>\n",
       "      <td>132.90</td>\n",
       "      <td>1326.0</td>\n",
       "      <td>0.08474</td>\n",
       "      <td>0.07864</td>\n",
       "      <td>0.08690</td>\n",
       "      <td>0.07017</td>\n",
       "      <td>...</td>\n",
       "      <td>23.41</td>\n",
       "      <td>158.80</td>\n",
       "      <td>1956.0</td>\n",
       "      <td>0.1238</td>\n",
       "      <td>0.1866</td>\n",
       "      <td>0.2416</td>\n",
       "      <td>0.1860</td>\n",
       "      <td>0.2750</td>\n",
       "      <td>0.08902</td>\n",
       "      <td>NaN</td>\n",
       "    </tr>\n",
       "    <tr>\n",
       "      <th>2</th>\n",
       "      <td>84300903</td>\n",
       "      <td>M</td>\n",
       "      <td>19.69</td>\n",
       "      <td>21.25</td>\n",
       "      <td>130.00</td>\n",
       "      <td>1203.0</td>\n",
       "      <td>0.10960</td>\n",
       "      <td>0.15990</td>\n",
       "      <td>0.19740</td>\n",
       "      <td>0.12790</td>\n",
       "      <td>...</td>\n",
       "      <td>25.53</td>\n",
       "      <td>152.50</td>\n",
       "      <td>1709.0</td>\n",
       "      <td>0.1444</td>\n",
       "      <td>0.4245</td>\n",
       "      <td>0.4504</td>\n",
       "      <td>0.2430</td>\n",
       "      <td>0.3613</td>\n",
       "      <td>0.08758</td>\n",
       "      <td>NaN</td>\n",
       "    </tr>\n",
       "    <tr>\n",
       "      <th>3</th>\n",
       "      <td>84348301</td>\n",
       "      <td>M</td>\n",
       "      <td>11.42</td>\n",
       "      <td>20.38</td>\n",
       "      <td>77.58</td>\n",
       "      <td>386.1</td>\n",
       "      <td>0.14250</td>\n",
       "      <td>0.28390</td>\n",
       "      <td>0.24140</td>\n",
       "      <td>0.10520</td>\n",
       "      <td>...</td>\n",
       "      <td>26.50</td>\n",
       "      <td>98.87</td>\n",
       "      <td>567.7</td>\n",
       "      <td>0.2098</td>\n",
       "      <td>0.8663</td>\n",
       "      <td>0.6869</td>\n",
       "      <td>0.2575</td>\n",
       "      <td>0.6638</td>\n",
       "      <td>0.17300</td>\n",
       "      <td>NaN</td>\n",
       "    </tr>\n",
       "    <tr>\n",
       "      <th>4</th>\n",
       "      <td>84358402</td>\n",
       "      <td>M</td>\n",
       "      <td>20.29</td>\n",
       "      <td>14.34</td>\n",
       "      <td>135.10</td>\n",
       "      <td>1297.0</td>\n",
       "      <td>0.10030</td>\n",
       "      <td>0.13280</td>\n",
       "      <td>0.19800</td>\n",
       "      <td>0.10430</td>\n",
       "      <td>...</td>\n",
       "      <td>16.67</td>\n",
       "      <td>152.20</td>\n",
       "      <td>1575.0</td>\n",
       "      <td>0.1374</td>\n",
       "      <td>0.2050</td>\n",
       "      <td>0.4000</td>\n",
       "      <td>0.1625</td>\n",
       "      <td>0.2364</td>\n",
       "      <td>0.07678</td>\n",
       "      <td>NaN</td>\n",
       "    </tr>\n",
       "    <tr>\n",
       "      <th>5</th>\n",
       "      <td>843786</td>\n",
       "      <td>M</td>\n",
       "      <td>12.45</td>\n",
       "      <td>15.70</td>\n",
       "      <td>82.57</td>\n",
       "      <td>477.1</td>\n",
       "      <td>0.12780</td>\n",
       "      <td>0.17000</td>\n",
       "      <td>0.15780</td>\n",
       "      <td>0.08089</td>\n",
       "      <td>...</td>\n",
       "      <td>23.75</td>\n",
       "      <td>103.40</td>\n",
       "      <td>741.6</td>\n",
       "      <td>0.1791</td>\n",
       "      <td>0.5249</td>\n",
       "      <td>0.5355</td>\n",
       "      <td>0.1741</td>\n",
       "      <td>0.3985</td>\n",
       "      <td>0.12440</td>\n",
       "      <td>NaN</td>\n",
       "    </tr>\n",
       "    <tr>\n",
       "      <th>6</th>\n",
       "      <td>844359</td>\n",
       "      <td>M</td>\n",
       "      <td>18.25</td>\n",
       "      <td>19.98</td>\n",
       "      <td>119.60</td>\n",
       "      <td>1040.0</td>\n",
       "      <td>0.09463</td>\n",
       "      <td>0.10900</td>\n",
       "      <td>0.11270</td>\n",
       "      <td>0.07400</td>\n",
       "      <td>...</td>\n",
       "      <td>27.66</td>\n",
       "      <td>153.20</td>\n",
       "      <td>1606.0</td>\n",
       "      <td>0.1442</td>\n",
       "      <td>0.2576</td>\n",
       "      <td>0.3784</td>\n",
       "      <td>0.1932</td>\n",
       "      <td>0.3063</td>\n",
       "      <td>0.08368</td>\n",
       "      <td>NaN</td>\n",
       "    </tr>\n",
       "    <tr>\n",
       "      <th>7</th>\n",
       "      <td>84458202</td>\n",
       "      <td>M</td>\n",
       "      <td>13.71</td>\n",
       "      <td>20.83</td>\n",
       "      <td>90.20</td>\n",
       "      <td>577.9</td>\n",
       "      <td>0.11890</td>\n",
       "      <td>0.16450</td>\n",
       "      <td>0.09366</td>\n",
       "      <td>0.05985</td>\n",
       "      <td>...</td>\n",
       "      <td>28.14</td>\n",
       "      <td>110.60</td>\n",
       "      <td>897.0</td>\n",
       "      <td>0.1654</td>\n",
       "      <td>0.3682</td>\n",
       "      <td>0.2678</td>\n",
       "      <td>0.1556</td>\n",
       "      <td>0.3196</td>\n",
       "      <td>0.11510</td>\n",
       "      <td>NaN</td>\n",
       "    </tr>\n",
       "    <tr>\n",
       "      <th>8</th>\n",
       "      <td>844981</td>\n",
       "      <td>M</td>\n",
       "      <td>13.00</td>\n",
       "      <td>21.82</td>\n",
       "      <td>87.50</td>\n",
       "      <td>519.8</td>\n",
       "      <td>0.12730</td>\n",
       "      <td>0.19320</td>\n",
       "      <td>0.18590</td>\n",
       "      <td>0.09353</td>\n",
       "      <td>...</td>\n",
       "      <td>30.73</td>\n",
       "      <td>106.20</td>\n",
       "      <td>739.3</td>\n",
       "      <td>0.1703</td>\n",
       "      <td>0.5401</td>\n",
       "      <td>0.5390</td>\n",
       "      <td>0.2060</td>\n",
       "      <td>0.4378</td>\n",
       "      <td>0.10720</td>\n",
       "      <td>NaN</td>\n",
       "    </tr>\n",
       "    <tr>\n",
       "      <th>9</th>\n",
       "      <td>84501001</td>\n",
       "      <td>M</td>\n",
       "      <td>12.46</td>\n",
       "      <td>24.04</td>\n",
       "      <td>83.97</td>\n",
       "      <td>475.9</td>\n",
       "      <td>0.11860</td>\n",
       "      <td>0.23960</td>\n",
       "      <td>0.22730</td>\n",
       "      <td>0.08543</td>\n",
       "      <td>...</td>\n",
       "      <td>40.68</td>\n",
       "      <td>97.65</td>\n",
       "      <td>711.4</td>\n",
       "      <td>0.1853</td>\n",
       "      <td>1.0580</td>\n",
       "      <td>1.1050</td>\n",
       "      <td>0.2210</td>\n",
       "      <td>0.4366</td>\n",
       "      <td>0.20750</td>\n",
       "      <td>NaN</td>\n",
       "    </tr>\n",
       "  </tbody>\n",
       "</table>\n",
       "<p>10 rows × 33 columns</p>\n",
       "</div>"
      ],
      "text/plain": [
       "         id diagnosis  radius_mean  texture_mean  perimeter_mean  area_mean  \\\n",
       "0    842302         M        17.99         10.38          122.80     1001.0   \n",
       "1    842517         M        20.57         17.77          132.90     1326.0   \n",
       "2  84300903         M        19.69         21.25          130.00     1203.0   \n",
       "3  84348301         M        11.42         20.38           77.58      386.1   \n",
       "4  84358402         M        20.29         14.34          135.10     1297.0   \n",
       "5    843786         M        12.45         15.70           82.57      477.1   \n",
       "6    844359         M        18.25         19.98          119.60     1040.0   \n",
       "7  84458202         M        13.71         20.83           90.20      577.9   \n",
       "8    844981         M        13.00         21.82           87.50      519.8   \n",
       "9  84501001         M        12.46         24.04           83.97      475.9   \n",
       "\n",
       "   smoothness_mean  compactness_mean  concavity_mean  concave points_mean  \\\n",
       "0          0.11840           0.27760         0.30010              0.14710   \n",
       "1          0.08474           0.07864         0.08690              0.07017   \n",
       "2          0.10960           0.15990         0.19740              0.12790   \n",
       "3          0.14250           0.28390         0.24140              0.10520   \n",
       "4          0.10030           0.13280         0.19800              0.10430   \n",
       "5          0.12780           0.17000         0.15780              0.08089   \n",
       "6          0.09463           0.10900         0.11270              0.07400   \n",
       "7          0.11890           0.16450         0.09366              0.05985   \n",
       "8          0.12730           0.19320         0.18590              0.09353   \n",
       "9          0.11860           0.23960         0.22730              0.08543   \n",
       "\n",
       "   ...  texture_worst  perimeter_worst  area_worst  smoothness_worst  \\\n",
       "0  ...          17.33           184.60      2019.0            0.1622   \n",
       "1  ...          23.41           158.80      1956.0            0.1238   \n",
       "2  ...          25.53           152.50      1709.0            0.1444   \n",
       "3  ...          26.50            98.87       567.7            0.2098   \n",
       "4  ...          16.67           152.20      1575.0            0.1374   \n",
       "5  ...          23.75           103.40       741.6            0.1791   \n",
       "6  ...          27.66           153.20      1606.0            0.1442   \n",
       "7  ...          28.14           110.60       897.0            0.1654   \n",
       "8  ...          30.73           106.20       739.3            0.1703   \n",
       "9  ...          40.68            97.65       711.4            0.1853   \n",
       "\n",
       "   compactness_worst  concavity_worst  concave points_worst  symmetry_worst  \\\n",
       "0             0.6656           0.7119                0.2654          0.4601   \n",
       "1             0.1866           0.2416                0.1860          0.2750   \n",
       "2             0.4245           0.4504                0.2430          0.3613   \n",
       "3             0.8663           0.6869                0.2575          0.6638   \n",
       "4             0.2050           0.4000                0.1625          0.2364   \n",
       "5             0.5249           0.5355                0.1741          0.3985   \n",
       "6             0.2576           0.3784                0.1932          0.3063   \n",
       "7             0.3682           0.2678                0.1556          0.3196   \n",
       "8             0.5401           0.5390                0.2060          0.4378   \n",
       "9             1.0580           1.1050                0.2210          0.4366   \n",
       "\n",
       "   fractal_dimension_worst  Unnamed: 32  \n",
       "0                  0.11890          NaN  \n",
       "1                  0.08902          NaN  \n",
       "2                  0.08758          NaN  \n",
       "3                  0.17300          NaN  \n",
       "4                  0.07678          NaN  \n",
       "5                  0.12440          NaN  \n",
       "6                  0.08368          NaN  \n",
       "7                  0.11510          NaN  \n",
       "8                  0.10720          NaN  \n",
       "9                  0.20750          NaN  \n",
       "\n",
       "[10 rows x 33 columns]"
      ]
     },
     "execution_count": 4,
     "metadata": {},
     "output_type": "execute_result"
    }
   ],
   "source": [
    "data.head(10)"
   ]
  },
  {
   "cell_type": "code",
   "execution_count": 5,
   "metadata": {
    "execution": {
     "iopub.execute_input": "2021-10-22T15:32:50.627443Z",
     "iopub.status.busy": "2021-10-22T15:32:50.626581Z",
     "iopub.status.idle": "2021-10-22T15:32:50.632974Z",
     "shell.execute_reply": "2021-10-22T15:32:50.632048Z",
     "shell.execute_reply.started": "2021-10-22T15:32:50.627402Z"
    }
   },
   "outputs": [
    {
     "data": {
      "text/plain": [
       "(569, 33)"
      ]
     },
     "execution_count": 5,
     "metadata": {},
     "output_type": "execute_result"
    }
   ],
   "source": [
    "data.shape"
   ]
  },
  {
   "cell_type": "code",
   "execution_count": 6,
   "metadata": {
    "execution": {
     "iopub.execute_input": "2021-10-22T15:32:53.130962Z",
     "iopub.status.busy": "2021-10-22T15:32:53.130367Z",
     "iopub.status.idle": "2021-10-22T15:32:53.139281Z",
     "shell.execute_reply": "2021-10-22T15:32:53.138558Z",
     "shell.execute_reply.started": "2021-10-22T15:32:53.130922Z"
    }
   },
   "outputs": [
    {
     "data": {
      "text/plain": [
       "id                           int64\n",
       "diagnosis                   object\n",
       "radius_mean                float64\n",
       "texture_mean               float64\n",
       "perimeter_mean             float64\n",
       "area_mean                  float64\n",
       "smoothness_mean            float64\n",
       "compactness_mean           float64\n",
       "concavity_mean             float64\n",
       "concave points_mean        float64\n",
       "symmetry_mean              float64\n",
       "fractal_dimension_mean     float64\n",
       "radius_se                  float64\n",
       "texture_se                 float64\n",
       "perimeter_se               float64\n",
       "area_se                    float64\n",
       "smoothness_se              float64\n",
       "compactness_se             float64\n",
       "concavity_se               float64\n",
       "concave points_se          float64\n",
       "symmetry_se                float64\n",
       "fractal_dimension_se       float64\n",
       "radius_worst               float64\n",
       "texture_worst              float64\n",
       "perimeter_worst            float64\n",
       "area_worst                 float64\n",
       "smoothness_worst           float64\n",
       "compactness_worst          float64\n",
       "concavity_worst            float64\n",
       "concave points_worst       float64\n",
       "symmetry_worst             float64\n",
       "fractal_dimension_worst    float64\n",
       "Unnamed: 32                float64\n",
       "dtype: object"
      ]
     },
     "execution_count": 6,
     "metadata": {},
     "output_type": "execute_result"
    }
   ],
   "source": [
    "data.dtypes"
   ]
  },
  {
   "cell_type": "code",
   "execution_count": 7,
   "metadata": {
    "execution": {
     "iopub.execute_input": "2021-10-22T15:32:56.892281Z",
     "iopub.status.busy": "2021-10-22T15:32:56.891847Z",
     "iopub.status.idle": "2021-10-22T15:32:56.901205Z",
     "shell.execute_reply": "2021-10-22T15:32:56.900552Z",
     "shell.execute_reply.started": "2021-10-22T15:32:56.892248Z"
    }
   },
   "outputs": [],
   "source": [
    "data.drop(['Unnamed: 32','id'],axis=1,inplace=True)"
   ]
  },
  {
   "cell_type": "code",
   "execution_count": 8,
   "metadata": {
    "execution": {
     "iopub.execute_input": "2021-10-22T15:33:01.119523Z",
     "iopub.status.busy": "2021-10-22T15:33:01.119036Z",
     "iopub.status.idle": "2021-10-22T15:33:01.149819Z",
     "shell.execute_reply": "2021-10-22T15:33:01.148994Z",
     "shell.execute_reply.started": "2021-10-22T15:33:01.119445Z"
    }
   },
   "outputs": [
    {
     "data": {
      "text/html": [
       "<div>\n",
       "<style scoped>\n",
       "    .dataframe tbody tr th:only-of-type {\n",
       "        vertical-align: middle;\n",
       "    }\n",
       "\n",
       "    .dataframe tbody tr th {\n",
       "        vertical-align: top;\n",
       "    }\n",
       "\n",
       "    .dataframe thead th {\n",
       "        text-align: right;\n",
       "    }\n",
       "</style>\n",
       "<table border=\"1\" class=\"dataframe\">\n",
       "  <thead>\n",
       "    <tr style=\"text-align: right;\">\n",
       "      <th></th>\n",
       "      <th>diagnosis</th>\n",
       "      <th>radius_mean</th>\n",
       "      <th>texture_mean</th>\n",
       "      <th>perimeter_mean</th>\n",
       "      <th>area_mean</th>\n",
       "      <th>smoothness_mean</th>\n",
       "      <th>compactness_mean</th>\n",
       "      <th>concavity_mean</th>\n",
       "      <th>concave points_mean</th>\n",
       "      <th>symmetry_mean</th>\n",
       "      <th>...</th>\n",
       "      <th>radius_worst</th>\n",
       "      <th>texture_worst</th>\n",
       "      <th>perimeter_worst</th>\n",
       "      <th>area_worst</th>\n",
       "      <th>smoothness_worst</th>\n",
       "      <th>compactness_worst</th>\n",
       "      <th>concavity_worst</th>\n",
       "      <th>concave points_worst</th>\n",
       "      <th>symmetry_worst</th>\n",
       "      <th>fractal_dimension_worst</th>\n",
       "    </tr>\n",
       "  </thead>\n",
       "  <tbody>\n",
       "    <tr>\n",
       "      <th>0</th>\n",
       "      <td>M</td>\n",
       "      <td>17.99</td>\n",
       "      <td>10.38</td>\n",
       "      <td>122.80</td>\n",
       "      <td>1001.0</td>\n",
       "      <td>0.11840</td>\n",
       "      <td>0.27760</td>\n",
       "      <td>0.3001</td>\n",
       "      <td>0.14710</td>\n",
       "      <td>0.2419</td>\n",
       "      <td>...</td>\n",
       "      <td>25.38</td>\n",
       "      <td>17.33</td>\n",
       "      <td>184.60</td>\n",
       "      <td>2019.0</td>\n",
       "      <td>0.1622</td>\n",
       "      <td>0.6656</td>\n",
       "      <td>0.7119</td>\n",
       "      <td>0.2654</td>\n",
       "      <td>0.4601</td>\n",
       "      <td>0.11890</td>\n",
       "    </tr>\n",
       "    <tr>\n",
       "      <th>1</th>\n",
       "      <td>M</td>\n",
       "      <td>20.57</td>\n",
       "      <td>17.77</td>\n",
       "      <td>132.90</td>\n",
       "      <td>1326.0</td>\n",
       "      <td>0.08474</td>\n",
       "      <td>0.07864</td>\n",
       "      <td>0.0869</td>\n",
       "      <td>0.07017</td>\n",
       "      <td>0.1812</td>\n",
       "      <td>...</td>\n",
       "      <td>24.99</td>\n",
       "      <td>23.41</td>\n",
       "      <td>158.80</td>\n",
       "      <td>1956.0</td>\n",
       "      <td>0.1238</td>\n",
       "      <td>0.1866</td>\n",
       "      <td>0.2416</td>\n",
       "      <td>0.1860</td>\n",
       "      <td>0.2750</td>\n",
       "      <td>0.08902</td>\n",
       "    </tr>\n",
       "    <tr>\n",
       "      <th>2</th>\n",
       "      <td>M</td>\n",
       "      <td>19.69</td>\n",
       "      <td>21.25</td>\n",
       "      <td>130.00</td>\n",
       "      <td>1203.0</td>\n",
       "      <td>0.10960</td>\n",
       "      <td>0.15990</td>\n",
       "      <td>0.1974</td>\n",
       "      <td>0.12790</td>\n",
       "      <td>0.2069</td>\n",
       "      <td>...</td>\n",
       "      <td>23.57</td>\n",
       "      <td>25.53</td>\n",
       "      <td>152.50</td>\n",
       "      <td>1709.0</td>\n",
       "      <td>0.1444</td>\n",
       "      <td>0.4245</td>\n",
       "      <td>0.4504</td>\n",
       "      <td>0.2430</td>\n",
       "      <td>0.3613</td>\n",
       "      <td>0.08758</td>\n",
       "    </tr>\n",
       "    <tr>\n",
       "      <th>3</th>\n",
       "      <td>M</td>\n",
       "      <td>11.42</td>\n",
       "      <td>20.38</td>\n",
       "      <td>77.58</td>\n",
       "      <td>386.1</td>\n",
       "      <td>0.14250</td>\n",
       "      <td>0.28390</td>\n",
       "      <td>0.2414</td>\n",
       "      <td>0.10520</td>\n",
       "      <td>0.2597</td>\n",
       "      <td>...</td>\n",
       "      <td>14.91</td>\n",
       "      <td>26.50</td>\n",
       "      <td>98.87</td>\n",
       "      <td>567.7</td>\n",
       "      <td>0.2098</td>\n",
       "      <td>0.8663</td>\n",
       "      <td>0.6869</td>\n",
       "      <td>0.2575</td>\n",
       "      <td>0.6638</td>\n",
       "      <td>0.17300</td>\n",
       "    </tr>\n",
       "    <tr>\n",
       "      <th>4</th>\n",
       "      <td>M</td>\n",
       "      <td>20.29</td>\n",
       "      <td>14.34</td>\n",
       "      <td>135.10</td>\n",
       "      <td>1297.0</td>\n",
       "      <td>0.10030</td>\n",
       "      <td>0.13280</td>\n",
       "      <td>0.1980</td>\n",
       "      <td>0.10430</td>\n",
       "      <td>0.1809</td>\n",
       "      <td>...</td>\n",
       "      <td>22.54</td>\n",
       "      <td>16.67</td>\n",
       "      <td>152.20</td>\n",
       "      <td>1575.0</td>\n",
       "      <td>0.1374</td>\n",
       "      <td>0.2050</td>\n",
       "      <td>0.4000</td>\n",
       "      <td>0.1625</td>\n",
       "      <td>0.2364</td>\n",
       "      <td>0.07678</td>\n",
       "    </tr>\n",
       "  </tbody>\n",
       "</table>\n",
       "<p>5 rows × 31 columns</p>\n",
       "</div>"
      ],
      "text/plain": [
       "  diagnosis  radius_mean  texture_mean  perimeter_mean  area_mean  \\\n",
       "0         M        17.99         10.38          122.80     1001.0   \n",
       "1         M        20.57         17.77          132.90     1326.0   \n",
       "2         M        19.69         21.25          130.00     1203.0   \n",
       "3         M        11.42         20.38           77.58      386.1   \n",
       "4         M        20.29         14.34          135.10     1297.0   \n",
       "\n",
       "   smoothness_mean  compactness_mean  concavity_mean  concave points_mean  \\\n",
       "0          0.11840           0.27760          0.3001              0.14710   \n",
       "1          0.08474           0.07864          0.0869              0.07017   \n",
       "2          0.10960           0.15990          0.1974              0.12790   \n",
       "3          0.14250           0.28390          0.2414              0.10520   \n",
       "4          0.10030           0.13280          0.1980              0.10430   \n",
       "\n",
       "   symmetry_mean  ...  radius_worst  texture_worst  perimeter_worst  \\\n",
       "0         0.2419  ...         25.38          17.33           184.60   \n",
       "1         0.1812  ...         24.99          23.41           158.80   \n",
       "2         0.2069  ...         23.57          25.53           152.50   \n",
       "3         0.2597  ...         14.91          26.50            98.87   \n",
       "4         0.1809  ...         22.54          16.67           152.20   \n",
       "\n",
       "   area_worst  smoothness_worst  compactness_worst  concavity_worst  \\\n",
       "0      2019.0            0.1622             0.6656           0.7119   \n",
       "1      1956.0            0.1238             0.1866           0.2416   \n",
       "2      1709.0            0.1444             0.4245           0.4504   \n",
       "3       567.7            0.2098             0.8663           0.6869   \n",
       "4      1575.0            0.1374             0.2050           0.4000   \n",
       "\n",
       "   concave points_worst  symmetry_worst  fractal_dimension_worst  \n",
       "0                0.2654          0.4601                  0.11890  \n",
       "1                0.1860          0.2750                  0.08902  \n",
       "2                0.2430          0.3613                  0.08758  \n",
       "3                0.2575          0.6638                  0.17300  \n",
       "4                0.1625          0.2364                  0.07678  \n",
       "\n",
       "[5 rows x 31 columns]"
      ]
     },
     "execution_count": 8,
     "metadata": {},
     "output_type": "execute_result"
    }
   ],
   "source": [
    "data.head()"
   ]
  },
  {
   "cell_type": "code",
   "execution_count": 9,
   "metadata": {
    "execution": {
     "iopub.execute_input": "2021-10-22T15:34:27.850417Z",
     "iopub.status.busy": "2021-10-22T15:34:27.850000Z",
     "iopub.status.idle": "2021-10-22T15:34:27.858120Z",
     "shell.execute_reply": "2021-10-22T15:34:27.857379Z",
     "shell.execute_reply.started": "2021-10-22T15:34:27.850386Z"
    }
   },
   "outputs": [],
   "source": [
    "data['diagnosis'] = [1 if each =='M' else 0 for each in data['diagnosis']]"
   ]
  },
  {
   "cell_type": "code",
   "execution_count": 10,
   "metadata": {
    "execution": {
     "iopub.execute_input": "2021-10-20T15:32:49.9428Z",
     "iopub.status.busy": "2021-10-20T15:32:49.942351Z",
     "iopub.status.idle": "2021-10-20T15:32:49.973868Z",
     "shell.execute_reply": "2021-10-20T15:32:49.97321Z",
     "shell.execute_reply.started": "2021-10-20T15:32:49.942768Z"
    }
   },
   "outputs": [
    {
     "data": {
      "text/html": [
       "<div>\n",
       "<style scoped>\n",
       "    .dataframe tbody tr th:only-of-type {\n",
       "        vertical-align: middle;\n",
       "    }\n",
       "\n",
       "    .dataframe tbody tr th {\n",
       "        vertical-align: top;\n",
       "    }\n",
       "\n",
       "    .dataframe thead th {\n",
       "        text-align: right;\n",
       "    }\n",
       "</style>\n",
       "<table border=\"1\" class=\"dataframe\">\n",
       "  <thead>\n",
       "    <tr style=\"text-align: right;\">\n",
       "      <th></th>\n",
       "      <th>diagnosis</th>\n",
       "      <th>radius_mean</th>\n",
       "      <th>texture_mean</th>\n",
       "      <th>perimeter_mean</th>\n",
       "      <th>area_mean</th>\n",
       "      <th>smoothness_mean</th>\n",
       "      <th>compactness_mean</th>\n",
       "      <th>concavity_mean</th>\n",
       "      <th>concave points_mean</th>\n",
       "      <th>symmetry_mean</th>\n",
       "      <th>...</th>\n",
       "      <th>radius_worst</th>\n",
       "      <th>texture_worst</th>\n",
       "      <th>perimeter_worst</th>\n",
       "      <th>area_worst</th>\n",
       "      <th>smoothness_worst</th>\n",
       "      <th>compactness_worst</th>\n",
       "      <th>concavity_worst</th>\n",
       "      <th>concave points_worst</th>\n",
       "      <th>symmetry_worst</th>\n",
       "      <th>fractal_dimension_worst</th>\n",
       "    </tr>\n",
       "  </thead>\n",
       "  <tbody>\n",
       "    <tr>\n",
       "      <th>0</th>\n",
       "      <td>1</td>\n",
       "      <td>17.99</td>\n",
       "      <td>10.38</td>\n",
       "      <td>122.80</td>\n",
       "      <td>1001.0</td>\n",
       "      <td>0.11840</td>\n",
       "      <td>0.27760</td>\n",
       "      <td>0.3001</td>\n",
       "      <td>0.14710</td>\n",
       "      <td>0.2419</td>\n",
       "      <td>...</td>\n",
       "      <td>25.38</td>\n",
       "      <td>17.33</td>\n",
       "      <td>184.60</td>\n",
       "      <td>2019.0</td>\n",
       "      <td>0.1622</td>\n",
       "      <td>0.6656</td>\n",
       "      <td>0.7119</td>\n",
       "      <td>0.2654</td>\n",
       "      <td>0.4601</td>\n",
       "      <td>0.11890</td>\n",
       "    </tr>\n",
       "    <tr>\n",
       "      <th>1</th>\n",
       "      <td>1</td>\n",
       "      <td>20.57</td>\n",
       "      <td>17.77</td>\n",
       "      <td>132.90</td>\n",
       "      <td>1326.0</td>\n",
       "      <td>0.08474</td>\n",
       "      <td>0.07864</td>\n",
       "      <td>0.0869</td>\n",
       "      <td>0.07017</td>\n",
       "      <td>0.1812</td>\n",
       "      <td>...</td>\n",
       "      <td>24.99</td>\n",
       "      <td>23.41</td>\n",
       "      <td>158.80</td>\n",
       "      <td>1956.0</td>\n",
       "      <td>0.1238</td>\n",
       "      <td>0.1866</td>\n",
       "      <td>0.2416</td>\n",
       "      <td>0.1860</td>\n",
       "      <td>0.2750</td>\n",
       "      <td>0.08902</td>\n",
       "    </tr>\n",
       "    <tr>\n",
       "      <th>2</th>\n",
       "      <td>1</td>\n",
       "      <td>19.69</td>\n",
       "      <td>21.25</td>\n",
       "      <td>130.00</td>\n",
       "      <td>1203.0</td>\n",
       "      <td>0.10960</td>\n",
       "      <td>0.15990</td>\n",
       "      <td>0.1974</td>\n",
       "      <td>0.12790</td>\n",
       "      <td>0.2069</td>\n",
       "      <td>...</td>\n",
       "      <td>23.57</td>\n",
       "      <td>25.53</td>\n",
       "      <td>152.50</td>\n",
       "      <td>1709.0</td>\n",
       "      <td>0.1444</td>\n",
       "      <td>0.4245</td>\n",
       "      <td>0.4504</td>\n",
       "      <td>0.2430</td>\n",
       "      <td>0.3613</td>\n",
       "      <td>0.08758</td>\n",
       "    </tr>\n",
       "    <tr>\n",
       "      <th>3</th>\n",
       "      <td>1</td>\n",
       "      <td>11.42</td>\n",
       "      <td>20.38</td>\n",
       "      <td>77.58</td>\n",
       "      <td>386.1</td>\n",
       "      <td>0.14250</td>\n",
       "      <td>0.28390</td>\n",
       "      <td>0.2414</td>\n",
       "      <td>0.10520</td>\n",
       "      <td>0.2597</td>\n",
       "      <td>...</td>\n",
       "      <td>14.91</td>\n",
       "      <td>26.50</td>\n",
       "      <td>98.87</td>\n",
       "      <td>567.7</td>\n",
       "      <td>0.2098</td>\n",
       "      <td>0.8663</td>\n",
       "      <td>0.6869</td>\n",
       "      <td>0.2575</td>\n",
       "      <td>0.6638</td>\n",
       "      <td>0.17300</td>\n",
       "    </tr>\n",
       "    <tr>\n",
       "      <th>4</th>\n",
       "      <td>1</td>\n",
       "      <td>20.29</td>\n",
       "      <td>14.34</td>\n",
       "      <td>135.10</td>\n",
       "      <td>1297.0</td>\n",
       "      <td>0.10030</td>\n",
       "      <td>0.13280</td>\n",
       "      <td>0.1980</td>\n",
       "      <td>0.10430</td>\n",
       "      <td>0.1809</td>\n",
       "      <td>...</td>\n",
       "      <td>22.54</td>\n",
       "      <td>16.67</td>\n",
       "      <td>152.20</td>\n",
       "      <td>1575.0</td>\n",
       "      <td>0.1374</td>\n",
       "      <td>0.2050</td>\n",
       "      <td>0.4000</td>\n",
       "      <td>0.1625</td>\n",
       "      <td>0.2364</td>\n",
       "      <td>0.07678</td>\n",
       "    </tr>\n",
       "  </tbody>\n",
       "</table>\n",
       "<p>5 rows × 31 columns</p>\n",
       "</div>"
      ],
      "text/plain": [
       "   diagnosis  radius_mean  texture_mean  perimeter_mean  area_mean  \\\n",
       "0          1        17.99         10.38          122.80     1001.0   \n",
       "1          1        20.57         17.77          132.90     1326.0   \n",
       "2          1        19.69         21.25          130.00     1203.0   \n",
       "3          1        11.42         20.38           77.58      386.1   \n",
       "4          1        20.29         14.34          135.10     1297.0   \n",
       "\n",
       "   smoothness_mean  compactness_mean  concavity_mean  concave points_mean  \\\n",
       "0          0.11840           0.27760          0.3001              0.14710   \n",
       "1          0.08474           0.07864          0.0869              0.07017   \n",
       "2          0.10960           0.15990          0.1974              0.12790   \n",
       "3          0.14250           0.28390          0.2414              0.10520   \n",
       "4          0.10030           0.13280          0.1980              0.10430   \n",
       "\n",
       "   symmetry_mean  ...  radius_worst  texture_worst  perimeter_worst  \\\n",
       "0         0.2419  ...         25.38          17.33           184.60   \n",
       "1         0.1812  ...         24.99          23.41           158.80   \n",
       "2         0.2069  ...         23.57          25.53           152.50   \n",
       "3         0.2597  ...         14.91          26.50            98.87   \n",
       "4         0.1809  ...         22.54          16.67           152.20   \n",
       "\n",
       "   area_worst  smoothness_worst  compactness_worst  concavity_worst  \\\n",
       "0      2019.0            0.1622             0.6656           0.7119   \n",
       "1      1956.0            0.1238             0.1866           0.2416   \n",
       "2      1709.0            0.1444             0.4245           0.4504   \n",
       "3       567.7            0.2098             0.8663           0.6869   \n",
       "4      1575.0            0.1374             0.2050           0.4000   \n",
       "\n",
       "   concave points_worst  symmetry_worst  fractal_dimension_worst  \n",
       "0                0.2654          0.4601                  0.11890  \n",
       "1                0.1860          0.2750                  0.08902  \n",
       "2                0.2430          0.3613                  0.08758  \n",
       "3                0.2575          0.6638                  0.17300  \n",
       "4                0.1625          0.2364                  0.07678  \n",
       "\n",
       "[5 rows x 31 columns]"
      ]
     },
     "execution_count": 10,
     "metadata": {},
     "output_type": "execute_result"
    }
   ],
   "source": [
    "data.head()"
   ]
  },
  {
   "cell_type": "code",
   "execution_count": 11,
   "metadata": {
    "execution": {
     "iopub.execute_input": "2021-10-20T15:39:19.838816Z",
     "iopub.status.busy": "2021-10-20T15:39:19.838508Z",
     "iopub.status.idle": "2021-10-20T15:39:19.848719Z",
     "shell.execute_reply": "2021-10-20T15:39:19.847837Z",
     "shell.execute_reply.started": "2021-10-20T15:39:19.838785Z"
    }
   },
   "outputs": [
    {
     "data": {
      "text/plain": [
       "0      1\n",
       "1      1\n",
       "2      1\n",
       "3      1\n",
       "4      1\n",
       "      ..\n",
       "564    1\n",
       "565    1\n",
       "566    1\n",
       "567    1\n",
       "568    0\n",
       "Name: diagnosis, Length: 569, dtype: int64"
      ]
     },
     "execution_count": 11,
     "metadata": {},
     "output_type": "execute_result"
    }
   ],
   "source": [
    "y = data['diagnosis']\n",
    "y"
   ]
  },
  {
   "cell_type": "code",
   "execution_count": 12,
   "metadata": {
    "execution": {
     "iopub.execute_input": "2021-10-20T15:42:28.743254Z",
     "iopub.status.busy": "2021-10-20T15:42:28.742717Z",
     "iopub.status.idle": "2021-10-20T15:42:28.747808Z",
     "shell.execute_reply": "2021-10-20T15:42:28.747077Z",
     "shell.execute_reply.started": "2021-10-20T15:42:28.743219Z"
    }
   },
   "outputs": [],
   "source": [
    "X = data.iloc[:,1:]"
   ]
  },
  {
   "cell_type": "code",
   "execution_count": 13,
   "metadata": {
    "execution": {
     "iopub.execute_input": "2021-10-20T15:42:32.017736Z",
     "iopub.status.busy": "2021-10-20T15:42:32.017305Z",
     "iopub.status.idle": "2021-10-20T15:42:32.055198Z",
     "shell.execute_reply": "2021-10-20T15:42:32.054507Z",
     "shell.execute_reply.started": "2021-10-20T15:42:32.017706Z"
    }
   },
   "outputs": [
    {
     "data": {
      "text/html": [
       "<div>\n",
       "<style scoped>\n",
       "    .dataframe tbody tr th:only-of-type {\n",
       "        vertical-align: middle;\n",
       "    }\n",
       "\n",
       "    .dataframe tbody tr th {\n",
       "        vertical-align: top;\n",
       "    }\n",
       "\n",
       "    .dataframe thead th {\n",
       "        text-align: right;\n",
       "    }\n",
       "</style>\n",
       "<table border=\"1\" class=\"dataframe\">\n",
       "  <thead>\n",
       "    <tr style=\"text-align: right;\">\n",
       "      <th></th>\n",
       "      <th>radius_mean</th>\n",
       "      <th>texture_mean</th>\n",
       "      <th>perimeter_mean</th>\n",
       "      <th>area_mean</th>\n",
       "      <th>smoothness_mean</th>\n",
       "      <th>compactness_mean</th>\n",
       "      <th>concavity_mean</th>\n",
       "      <th>concave points_mean</th>\n",
       "      <th>symmetry_mean</th>\n",
       "      <th>fractal_dimension_mean</th>\n",
       "      <th>...</th>\n",
       "      <th>radius_worst</th>\n",
       "      <th>texture_worst</th>\n",
       "      <th>perimeter_worst</th>\n",
       "      <th>area_worst</th>\n",
       "      <th>smoothness_worst</th>\n",
       "      <th>compactness_worst</th>\n",
       "      <th>concavity_worst</th>\n",
       "      <th>concave points_worst</th>\n",
       "      <th>symmetry_worst</th>\n",
       "      <th>fractal_dimension_worst</th>\n",
       "    </tr>\n",
       "  </thead>\n",
       "  <tbody>\n",
       "    <tr>\n",
       "      <th>0</th>\n",
       "      <td>17.99</td>\n",
       "      <td>10.38</td>\n",
       "      <td>122.80</td>\n",
       "      <td>1001.0</td>\n",
       "      <td>0.11840</td>\n",
       "      <td>0.27760</td>\n",
       "      <td>0.30010</td>\n",
       "      <td>0.14710</td>\n",
       "      <td>0.2419</td>\n",
       "      <td>0.07871</td>\n",
       "      <td>...</td>\n",
       "      <td>25.380</td>\n",
       "      <td>17.33</td>\n",
       "      <td>184.60</td>\n",
       "      <td>2019.0</td>\n",
       "      <td>0.16220</td>\n",
       "      <td>0.66560</td>\n",
       "      <td>0.7119</td>\n",
       "      <td>0.2654</td>\n",
       "      <td>0.4601</td>\n",
       "      <td>0.11890</td>\n",
       "    </tr>\n",
       "    <tr>\n",
       "      <th>1</th>\n",
       "      <td>20.57</td>\n",
       "      <td>17.77</td>\n",
       "      <td>132.90</td>\n",
       "      <td>1326.0</td>\n",
       "      <td>0.08474</td>\n",
       "      <td>0.07864</td>\n",
       "      <td>0.08690</td>\n",
       "      <td>0.07017</td>\n",
       "      <td>0.1812</td>\n",
       "      <td>0.05667</td>\n",
       "      <td>...</td>\n",
       "      <td>24.990</td>\n",
       "      <td>23.41</td>\n",
       "      <td>158.80</td>\n",
       "      <td>1956.0</td>\n",
       "      <td>0.12380</td>\n",
       "      <td>0.18660</td>\n",
       "      <td>0.2416</td>\n",
       "      <td>0.1860</td>\n",
       "      <td>0.2750</td>\n",
       "      <td>0.08902</td>\n",
       "    </tr>\n",
       "    <tr>\n",
       "      <th>2</th>\n",
       "      <td>19.69</td>\n",
       "      <td>21.25</td>\n",
       "      <td>130.00</td>\n",
       "      <td>1203.0</td>\n",
       "      <td>0.10960</td>\n",
       "      <td>0.15990</td>\n",
       "      <td>0.19740</td>\n",
       "      <td>0.12790</td>\n",
       "      <td>0.2069</td>\n",
       "      <td>0.05999</td>\n",
       "      <td>...</td>\n",
       "      <td>23.570</td>\n",
       "      <td>25.53</td>\n",
       "      <td>152.50</td>\n",
       "      <td>1709.0</td>\n",
       "      <td>0.14440</td>\n",
       "      <td>0.42450</td>\n",
       "      <td>0.4504</td>\n",
       "      <td>0.2430</td>\n",
       "      <td>0.3613</td>\n",
       "      <td>0.08758</td>\n",
       "    </tr>\n",
       "    <tr>\n",
       "      <th>3</th>\n",
       "      <td>11.42</td>\n",
       "      <td>20.38</td>\n",
       "      <td>77.58</td>\n",
       "      <td>386.1</td>\n",
       "      <td>0.14250</td>\n",
       "      <td>0.28390</td>\n",
       "      <td>0.24140</td>\n",
       "      <td>0.10520</td>\n",
       "      <td>0.2597</td>\n",
       "      <td>0.09744</td>\n",
       "      <td>...</td>\n",
       "      <td>14.910</td>\n",
       "      <td>26.50</td>\n",
       "      <td>98.87</td>\n",
       "      <td>567.7</td>\n",
       "      <td>0.20980</td>\n",
       "      <td>0.86630</td>\n",
       "      <td>0.6869</td>\n",
       "      <td>0.2575</td>\n",
       "      <td>0.6638</td>\n",
       "      <td>0.17300</td>\n",
       "    </tr>\n",
       "    <tr>\n",
       "      <th>4</th>\n",
       "      <td>20.29</td>\n",
       "      <td>14.34</td>\n",
       "      <td>135.10</td>\n",
       "      <td>1297.0</td>\n",
       "      <td>0.10030</td>\n",
       "      <td>0.13280</td>\n",
       "      <td>0.19800</td>\n",
       "      <td>0.10430</td>\n",
       "      <td>0.1809</td>\n",
       "      <td>0.05883</td>\n",
       "      <td>...</td>\n",
       "      <td>22.540</td>\n",
       "      <td>16.67</td>\n",
       "      <td>152.20</td>\n",
       "      <td>1575.0</td>\n",
       "      <td>0.13740</td>\n",
       "      <td>0.20500</td>\n",
       "      <td>0.4000</td>\n",
       "      <td>0.1625</td>\n",
       "      <td>0.2364</td>\n",
       "      <td>0.07678</td>\n",
       "    </tr>\n",
       "    <tr>\n",
       "      <th>...</th>\n",
       "      <td>...</td>\n",
       "      <td>...</td>\n",
       "      <td>...</td>\n",
       "      <td>...</td>\n",
       "      <td>...</td>\n",
       "      <td>...</td>\n",
       "      <td>...</td>\n",
       "      <td>...</td>\n",
       "      <td>...</td>\n",
       "      <td>...</td>\n",
       "      <td>...</td>\n",
       "      <td>...</td>\n",
       "      <td>...</td>\n",
       "      <td>...</td>\n",
       "      <td>...</td>\n",
       "      <td>...</td>\n",
       "      <td>...</td>\n",
       "      <td>...</td>\n",
       "      <td>...</td>\n",
       "      <td>...</td>\n",
       "      <td>...</td>\n",
       "    </tr>\n",
       "    <tr>\n",
       "      <th>564</th>\n",
       "      <td>21.56</td>\n",
       "      <td>22.39</td>\n",
       "      <td>142.00</td>\n",
       "      <td>1479.0</td>\n",
       "      <td>0.11100</td>\n",
       "      <td>0.11590</td>\n",
       "      <td>0.24390</td>\n",
       "      <td>0.13890</td>\n",
       "      <td>0.1726</td>\n",
       "      <td>0.05623</td>\n",
       "      <td>...</td>\n",
       "      <td>25.450</td>\n",
       "      <td>26.40</td>\n",
       "      <td>166.10</td>\n",
       "      <td>2027.0</td>\n",
       "      <td>0.14100</td>\n",
       "      <td>0.21130</td>\n",
       "      <td>0.4107</td>\n",
       "      <td>0.2216</td>\n",
       "      <td>0.2060</td>\n",
       "      <td>0.07115</td>\n",
       "    </tr>\n",
       "    <tr>\n",
       "      <th>565</th>\n",
       "      <td>20.13</td>\n",
       "      <td>28.25</td>\n",
       "      <td>131.20</td>\n",
       "      <td>1261.0</td>\n",
       "      <td>0.09780</td>\n",
       "      <td>0.10340</td>\n",
       "      <td>0.14400</td>\n",
       "      <td>0.09791</td>\n",
       "      <td>0.1752</td>\n",
       "      <td>0.05533</td>\n",
       "      <td>...</td>\n",
       "      <td>23.690</td>\n",
       "      <td>38.25</td>\n",
       "      <td>155.00</td>\n",
       "      <td>1731.0</td>\n",
       "      <td>0.11660</td>\n",
       "      <td>0.19220</td>\n",
       "      <td>0.3215</td>\n",
       "      <td>0.1628</td>\n",
       "      <td>0.2572</td>\n",
       "      <td>0.06637</td>\n",
       "    </tr>\n",
       "    <tr>\n",
       "      <th>566</th>\n",
       "      <td>16.60</td>\n",
       "      <td>28.08</td>\n",
       "      <td>108.30</td>\n",
       "      <td>858.1</td>\n",
       "      <td>0.08455</td>\n",
       "      <td>0.10230</td>\n",
       "      <td>0.09251</td>\n",
       "      <td>0.05302</td>\n",
       "      <td>0.1590</td>\n",
       "      <td>0.05648</td>\n",
       "      <td>...</td>\n",
       "      <td>18.980</td>\n",
       "      <td>34.12</td>\n",
       "      <td>126.70</td>\n",
       "      <td>1124.0</td>\n",
       "      <td>0.11390</td>\n",
       "      <td>0.30940</td>\n",
       "      <td>0.3403</td>\n",
       "      <td>0.1418</td>\n",
       "      <td>0.2218</td>\n",
       "      <td>0.07820</td>\n",
       "    </tr>\n",
       "    <tr>\n",
       "      <th>567</th>\n",
       "      <td>20.60</td>\n",
       "      <td>29.33</td>\n",
       "      <td>140.10</td>\n",
       "      <td>1265.0</td>\n",
       "      <td>0.11780</td>\n",
       "      <td>0.27700</td>\n",
       "      <td>0.35140</td>\n",
       "      <td>0.15200</td>\n",
       "      <td>0.2397</td>\n",
       "      <td>0.07016</td>\n",
       "      <td>...</td>\n",
       "      <td>25.740</td>\n",
       "      <td>39.42</td>\n",
       "      <td>184.60</td>\n",
       "      <td>1821.0</td>\n",
       "      <td>0.16500</td>\n",
       "      <td>0.86810</td>\n",
       "      <td>0.9387</td>\n",
       "      <td>0.2650</td>\n",
       "      <td>0.4087</td>\n",
       "      <td>0.12400</td>\n",
       "    </tr>\n",
       "    <tr>\n",
       "      <th>568</th>\n",
       "      <td>7.76</td>\n",
       "      <td>24.54</td>\n",
       "      <td>47.92</td>\n",
       "      <td>181.0</td>\n",
       "      <td>0.05263</td>\n",
       "      <td>0.04362</td>\n",
       "      <td>0.00000</td>\n",
       "      <td>0.00000</td>\n",
       "      <td>0.1587</td>\n",
       "      <td>0.05884</td>\n",
       "      <td>...</td>\n",
       "      <td>9.456</td>\n",
       "      <td>30.37</td>\n",
       "      <td>59.16</td>\n",
       "      <td>268.6</td>\n",
       "      <td>0.08996</td>\n",
       "      <td>0.06444</td>\n",
       "      <td>0.0000</td>\n",
       "      <td>0.0000</td>\n",
       "      <td>0.2871</td>\n",
       "      <td>0.07039</td>\n",
       "    </tr>\n",
       "  </tbody>\n",
       "</table>\n",
       "<p>569 rows × 30 columns</p>\n",
       "</div>"
      ],
      "text/plain": [
       "     radius_mean  texture_mean  perimeter_mean  area_mean  smoothness_mean  \\\n",
       "0          17.99         10.38          122.80     1001.0          0.11840   \n",
       "1          20.57         17.77          132.90     1326.0          0.08474   \n",
       "2          19.69         21.25          130.00     1203.0          0.10960   \n",
       "3          11.42         20.38           77.58      386.1          0.14250   \n",
       "4          20.29         14.34          135.10     1297.0          0.10030   \n",
       "..           ...           ...             ...        ...              ...   \n",
       "564        21.56         22.39          142.00     1479.0          0.11100   \n",
       "565        20.13         28.25          131.20     1261.0          0.09780   \n",
       "566        16.60         28.08          108.30      858.1          0.08455   \n",
       "567        20.60         29.33          140.10     1265.0          0.11780   \n",
       "568         7.76         24.54           47.92      181.0          0.05263   \n",
       "\n",
       "     compactness_mean  concavity_mean  concave points_mean  symmetry_mean  \\\n",
       "0             0.27760         0.30010              0.14710         0.2419   \n",
       "1             0.07864         0.08690              0.07017         0.1812   \n",
       "2             0.15990         0.19740              0.12790         0.2069   \n",
       "3             0.28390         0.24140              0.10520         0.2597   \n",
       "4             0.13280         0.19800              0.10430         0.1809   \n",
       "..                ...             ...                  ...            ...   \n",
       "564           0.11590         0.24390              0.13890         0.1726   \n",
       "565           0.10340         0.14400              0.09791         0.1752   \n",
       "566           0.10230         0.09251              0.05302         0.1590   \n",
       "567           0.27700         0.35140              0.15200         0.2397   \n",
       "568           0.04362         0.00000              0.00000         0.1587   \n",
       "\n",
       "     fractal_dimension_mean  ...  radius_worst  texture_worst  \\\n",
       "0                   0.07871  ...        25.380          17.33   \n",
       "1                   0.05667  ...        24.990          23.41   \n",
       "2                   0.05999  ...        23.570          25.53   \n",
       "3                   0.09744  ...        14.910          26.50   \n",
       "4                   0.05883  ...        22.540          16.67   \n",
       "..                      ...  ...           ...            ...   \n",
       "564                 0.05623  ...        25.450          26.40   \n",
       "565                 0.05533  ...        23.690          38.25   \n",
       "566                 0.05648  ...        18.980          34.12   \n",
       "567                 0.07016  ...        25.740          39.42   \n",
       "568                 0.05884  ...         9.456          30.37   \n",
       "\n",
       "     perimeter_worst  area_worst  smoothness_worst  compactness_worst  \\\n",
       "0             184.60      2019.0           0.16220            0.66560   \n",
       "1             158.80      1956.0           0.12380            0.18660   \n",
       "2             152.50      1709.0           0.14440            0.42450   \n",
       "3              98.87       567.7           0.20980            0.86630   \n",
       "4             152.20      1575.0           0.13740            0.20500   \n",
       "..               ...         ...               ...                ...   \n",
       "564           166.10      2027.0           0.14100            0.21130   \n",
       "565           155.00      1731.0           0.11660            0.19220   \n",
       "566           126.70      1124.0           0.11390            0.30940   \n",
       "567           184.60      1821.0           0.16500            0.86810   \n",
       "568            59.16       268.6           0.08996            0.06444   \n",
       "\n",
       "     concavity_worst  concave points_worst  symmetry_worst  \\\n",
       "0             0.7119                0.2654          0.4601   \n",
       "1             0.2416                0.1860          0.2750   \n",
       "2             0.4504                0.2430          0.3613   \n",
       "3             0.6869                0.2575          0.6638   \n",
       "4             0.4000                0.1625          0.2364   \n",
       "..               ...                   ...             ...   \n",
       "564           0.4107                0.2216          0.2060   \n",
       "565           0.3215                0.1628          0.2572   \n",
       "566           0.3403                0.1418          0.2218   \n",
       "567           0.9387                0.2650          0.4087   \n",
       "568           0.0000                0.0000          0.2871   \n",
       "\n",
       "     fractal_dimension_worst  \n",
       "0                    0.11890  \n",
       "1                    0.08902  \n",
       "2                    0.08758  \n",
       "3                    0.17300  \n",
       "4                    0.07678  \n",
       "..                       ...  \n",
       "564                  0.07115  \n",
       "565                  0.06637  \n",
       "566                  0.07820  \n",
       "567                  0.12400  \n",
       "568                  0.07039  \n",
       "\n",
       "[569 rows x 30 columns]"
      ]
     },
     "execution_count": 13,
     "metadata": {},
     "output_type": "execute_result"
    }
   ],
   "source": [
    "X\n"
   ]
  },
  {
   "cell_type": "code",
   "execution_count": 14,
   "metadata": {
    "execution": {
     "iopub.execute_input": "2021-10-20T15:43:01.684849Z",
     "iopub.status.busy": "2021-10-20T15:43:01.684551Z",
     "iopub.status.idle": "2021-10-20T15:43:01.690702Z",
     "shell.execute_reply": "2021-10-20T15:43:01.689803Z",
     "shell.execute_reply.started": "2021-10-20T15:43:01.684817Z"
    }
   },
   "outputs": [
    {
     "data": {
      "text/plain": [
       "pandas.core.frame.DataFrame"
      ]
     },
     "execution_count": 14,
     "metadata": {},
     "output_type": "execute_result"
    }
   ],
   "source": [
    "type(X)\n"
   ]
  },
  {
   "cell_type": "code",
   "execution_count": 15,
   "metadata": {
    "execution": {
     "iopub.execute_input": "2021-10-20T15:41:52.636332Z",
     "iopub.status.busy": "2021-10-20T15:41:52.636059Z",
     "iopub.status.idle": "2021-10-20T15:41:52.641714Z",
     "shell.execute_reply": "2021-10-20T15:41:52.640958Z",
     "shell.execute_reply.started": "2021-10-20T15:41:52.636305Z"
    }
   },
   "outputs": [
    {
     "data": {
      "text/plain": [
       "pandas.core.series.Series"
      ]
     },
     "execution_count": 15,
     "metadata": {},
     "output_type": "execute_result"
    }
   ],
   "source": [
    "type(y)"
   ]
  },
  {
   "cell_type": "code",
   "execution_count": 16,
   "metadata": {
    "execution": {
     "iopub.execute_input": "2021-10-20T15:43:18.91145Z",
     "iopub.status.busy": "2021-10-20T15:43:18.91117Z",
     "iopub.status.idle": "2021-10-20T15:43:18.917499Z",
     "shell.execute_reply": "2021-10-20T15:43:18.916496Z",
     "shell.execute_reply.started": "2021-10-20T15:43:18.911421Z"
    }
   },
   "outputs": [
    {
     "name": "stdout",
     "output_type": "stream",
     "text": [
      "(569, 30)\n",
      "(569,)\n"
     ]
    }
   ],
   "source": [
    "print(X.shape)\n",
    "print(y.shape)"
   ]
  },
  {
   "cell_type": "code",
   "execution_count": 17,
   "metadata": {
    "execution": {
     "iopub.execute_input": "2021-10-20T15:44:59.718249Z",
     "iopub.status.busy": "2021-10-20T15:44:59.717913Z",
     "iopub.status.idle": "2021-10-20T15:45:00.81915Z",
     "shell.execute_reply": "2021-10-20T15:45:00.818308Z",
     "shell.execute_reply.started": "2021-10-20T15:44:59.718217Z"
    }
   },
   "outputs": [],
   "source": [
    "from sklearn.model_selection import train_test_split\n",
    "import matplotlib.pyplot as plt\n",
    "%matplotlib inline"
   ]
  },
  {
   "cell_type": "code",
   "execution_count": 18,
   "metadata": {
    "execution": {
     "iopub.execute_input": "2021-10-20T15:46:26.141575Z",
     "iopub.status.busy": "2021-10-20T15:46:26.14065Z",
     "iopub.status.idle": "2021-10-20T15:46:26.148821Z",
     "shell.execute_reply": "2021-10-20T15:46:26.148162Z",
     "shell.execute_reply.started": "2021-10-20T15:46:26.14151Z"
    }
   },
   "outputs": [],
   "source": [
    "X_train,X_test,y_train,y_test = train_test_split(X,y,test_size=0.2,random_state=122)"
   ]
  },
  {
   "cell_type": "code",
   "execution_count": 19,
   "metadata": {
    "execution": {
     "iopub.execute_input": "2021-10-20T15:46:43.664059Z",
     "iopub.status.busy": "2021-10-20T15:46:43.663732Z",
     "iopub.status.idle": "2021-10-20T15:46:43.670628Z",
     "shell.execute_reply": "2021-10-20T15:46:43.669529Z",
     "shell.execute_reply.started": "2021-10-20T15:46:43.664019Z"
    }
   },
   "outputs": [
    {
     "name": "stdout",
     "output_type": "stream",
     "text": [
      "(455, 30)\n",
      "(114, 30)\n",
      "(455,)\n",
      "(114,)\n"
     ]
    }
   ],
   "source": [
    "print(X_train.shape)\n",
    "print(X_test.shape)\n",
    "print(y_train.shape)\n",
    "print(y_test.shape)"
   ]
  },
  {
   "cell_type": "code",
   "execution_count": 20,
   "metadata": {
    "execution": {
     "iopub.execute_input": "2021-10-20T15:47:00.701462Z",
     "iopub.status.busy": "2021-10-20T15:47:00.700781Z",
     "iopub.status.idle": "2021-10-20T15:47:00.710735Z",
     "shell.execute_reply": "2021-10-20T15:47:00.709978Z",
     "shell.execute_reply.started": "2021-10-20T15:47:00.701413Z"
    }
   },
   "outputs": [
    {
     "data": {
      "text/plain": [
       "0    278\n",
       "1    177\n",
       "Name: diagnosis, dtype: int64"
      ]
     },
     "execution_count": 20,
     "metadata": {},
     "output_type": "execute_result"
    }
   ],
   "source": [
    "y_train.value_counts()"
   ]
  },
  {
   "cell_type": "code",
   "execution_count": 21,
   "metadata": {
    "execution": {
     "iopub.execute_input": "2021-10-20T15:48:22.394355Z",
     "iopub.status.busy": "2021-10-20T15:48:22.394037Z",
     "iopub.status.idle": "2021-10-20T15:48:22.400602Z",
     "shell.execute_reply": "2021-10-20T15:48:22.400036Z",
     "shell.execute_reply.started": "2021-10-20T15:48:22.394322Z"
    }
   },
   "outputs": [
    {
     "name": "stdout",
     "output_type": "stream",
     "text": [
      "0    0.610989\n",
      "1    0.389011\n",
      "Name: diagnosis, dtype: float64\n"
     ]
    }
   ],
   "source": [
    "print(y_train.value_counts()/y_train.shape[0])"
   ]
  },
  {
   "cell_type": "code",
   "execution_count": 22,
   "metadata": {
    "execution": {
     "iopub.execute_input": "2021-10-20T15:50:42.368574Z",
     "iopub.status.busy": "2021-10-20T15:50:42.368267Z",
     "iopub.status.idle": "2021-10-20T15:50:42.376316Z",
     "shell.execute_reply": "2021-10-20T15:50:42.375671Z",
     "shell.execute_reply.started": "2021-10-20T15:50:42.368541Z"
    }
   },
   "outputs": [
    {
     "name": "stdout",
     "output_type": "stream",
     "text": [
      "0    0.692982\n",
      "1    0.307018\n",
      "Name: diagnosis, dtype: float64\n"
     ]
    }
   ],
   "source": [
    "print(y_test.value_counts()/y_test.shape[0])"
   ]
  },
  {
   "cell_type": "code",
   "execution_count": 23,
   "metadata": {
    "execution": {
     "iopub.execute_input": "2021-10-20T15:51:29.107194Z",
     "iopub.status.busy": "2021-10-20T15:51:29.106752Z",
     "iopub.status.idle": "2021-10-20T15:51:29.115269Z",
     "shell.execute_reply": "2021-10-20T15:51:29.114158Z",
     "shell.execute_reply.started": "2021-10-20T15:51:29.107157Z"
    }
   },
   "outputs": [
    {
     "name": "stdout",
     "output_type": "stream",
     "text": [
      "0    0.627417\n",
      "1    0.372583\n",
      "Name: diagnosis, dtype: float64\n"
     ]
    }
   ],
   "source": [
    "print(data['diagnosis'].value_counts()/len(data))"
   ]
  },
  {
   "cell_type": "markdown",
   "metadata": {},
   "source": [
    "## Support Vector Machine"
   ]
  },
  {
   "cell_type": "code",
   "execution_count": 24,
   "metadata": {
    "execution": {
     "iopub.execute_input": "2021-10-20T15:59:44.41877Z",
     "iopub.status.busy": "2021-10-20T15:59:44.418028Z",
     "iopub.status.idle": "2021-10-20T15:59:44.61455Z",
     "shell.execute_reply": "2021-10-20T15:59:44.61361Z",
     "shell.execute_reply.started": "2021-10-20T15:59:44.418731Z"
    }
   },
   "outputs": [],
   "source": [
    "import numpy as np\n",
    "from sklearn.datasets import make_blobs\n",
    "from sklearn.model_selection import train_test_split\n",
    "import matplotlib.pyplot as plt\n",
    "from sklearn.svm import LinearSVC\n",
    "from sklearn.metrics import confusion_matrix\n",
    "from sklearn import svm\n",
    "from sklearn.svm import SVC\n",
    "\n",
    "from sklearn.metrics import accuracy_score,f1_score"
   ]
  },
  {
   "cell_type": "markdown",
   "metadata": {},
   "source": [
    "### Apply various kernel functions and compare accuracy"
   ]
  },
  {
   "cell_type": "code",
   "execution_count": 25,
   "metadata": {
    "execution": {
     "iopub.execute_input": "2021-10-20T16:00:19.792272Z",
     "iopub.status.busy": "2021-10-20T16:00:19.791964Z",
     "iopub.status.idle": "2021-10-20T16:00:19.796478Z",
     "shell.execute_reply": "2021-10-20T16:00:19.795678Z",
     "shell.execute_reply.started": "2021-10-20T16:00:19.792241Z"
    }
   },
   "outputs": [
    {
     "name": "stdout",
     "output_type": "stream",
     "text": [
      "Kernel is poly\n",
      "[[78  1]\n",
      " [ 5 30]]\n",
      "accuracy 0.9473684210526315\n",
      "F1 score 0.909090909090909\n",
      "\n",
      " --------------------- \n",
      "\n",
      "Kernel is rbf\n",
      "[[77  2]\n",
      " [ 5 30]]\n",
      "accuracy 0.9385964912280702\n",
      "F1 score 0.8955223880597014\n",
      "\n",
      " --------------------- \n",
      "\n",
      "Kernel is sigmoid\n",
      "[[35 44]\n",
      " [31  4]]\n",
      "accuracy 0.34210526315789475\n",
      "F1 score 0.09638554216867469\n",
      "\n",
      " --------------------- \n",
      "\n",
      "Kernel is linear\n",
      "[[76  3]\n",
      " [ 3 32]]\n",
      "accuracy 0.9473684210526315\n",
      "F1 score 0.9142857142857143\n",
      "\n",
      " --------------------- \n",
      "\n"
     ]
    }
   ],
   "source": [
    "kernels = ['poly','rbf','sigmoid','linear']\n",
    "\n",
    "for k in kernels:\n",
    "    svclassifier = SVC(kernel = k, C=1,random_state=0)\n",
    "    svclassifier.fit(X_train,y_train)\n",
    "    y_pred = svclassifier.predict(X_test)\n",
    "    print(\"Kernel is\",k)\n",
    "    print(confusion_matrix(y_test,y_pred))\n",
    "    print(\"accuracy\",accuracy_score(y_test,y_pred))\n",
    "    print('F1 score',f1_score(y_test,y_pred))\n",
    "    print('\\n --------------------- \\n')\n",
    "          "
   ]
  },
  {
   "cell_type": "markdown",
   "metadata": {},
   "source": [
    "### Grid Search "
   ]
  },
  {
   "cell_type": "code",
   "execution_count": 26,
   "metadata": {},
   "outputs": [
    {
     "name": "stdout",
     "output_type": "stream",
     "text": [
      "Fitting 5 folds for each of 25 candidates, totalling 125 fits\n",
      "[CV 1/5] END ..................C=0.1, gamma=1, kernel=linear; total time=   0.1s\n",
      "[CV 2/5] END ..................C=0.1, gamma=1, kernel=linear; total time=   0.0s\n",
      "[CV 3/5] END ..................C=0.1, gamma=1, kernel=linear; total time=   0.1s\n",
      "[CV 4/5] END ..................C=0.1, gamma=1, kernel=linear; total time=   0.0s\n",
      "[CV 5/5] END ..................C=0.1, gamma=1, kernel=linear; total time=   0.1s\n",
      "[CV 1/5] END ................C=0.1, gamma=0.1, kernel=linear; total time=   0.1s\n",
      "[CV 2/5] END ................C=0.1, gamma=0.1, kernel=linear; total time=   0.0s\n",
      "[CV 3/5] END ................C=0.1, gamma=0.1, kernel=linear; total time=   0.1s\n",
      "[CV 4/5] END ................C=0.1, gamma=0.1, kernel=linear; total time=   0.0s\n",
      "[CV 5/5] END ................C=0.1, gamma=0.1, kernel=linear; total time=   0.1s\n",
      "[CV 1/5] END ...............C=0.1, gamma=0.01, kernel=linear; total time=   0.1s\n",
      "[CV 2/5] END ...............C=0.1, gamma=0.01, kernel=linear; total time=   0.0s\n",
      "[CV 3/5] END ...............C=0.1, gamma=0.01, kernel=linear; total time=   0.1s\n",
      "[CV 4/5] END ...............C=0.1, gamma=0.01, kernel=linear; total time=   0.0s\n",
      "[CV 5/5] END ...............C=0.1, gamma=0.01, kernel=linear; total time=   0.1s\n",
      "[CV 1/5] END ..............C=0.1, gamma=0.001, kernel=linear; total time=   0.1s\n",
      "[CV 2/5] END ..............C=0.1, gamma=0.001, kernel=linear; total time=   0.0s\n",
      "[CV 3/5] END ..............C=0.1, gamma=0.001, kernel=linear; total time=   0.1s\n",
      "[CV 4/5] END ..............C=0.1, gamma=0.001, kernel=linear; total time=   0.0s\n",
      "[CV 5/5] END ..............C=0.1, gamma=0.001, kernel=linear; total time=   0.1s\n",
      "[CV 1/5] END .............C=0.1, gamma=0.0001, kernel=linear; total time=   0.1s\n",
      "[CV 2/5] END .............C=0.1, gamma=0.0001, kernel=linear; total time=   0.0s\n",
      "[CV 3/5] END .............C=0.1, gamma=0.0001, kernel=linear; total time=   0.1s\n",
      "[CV 4/5] END .............C=0.1, gamma=0.0001, kernel=linear; total time=   0.0s\n",
      "[CV 5/5] END .............C=0.1, gamma=0.0001, kernel=linear; total time=   0.1s\n",
      "[CV 1/5] END ....................C=1, gamma=1, kernel=linear; total time=   0.7s\n",
      "[CV 2/5] END ....................C=1, gamma=1, kernel=linear; total time=   0.8s\n",
      "[CV 3/5] END ....................C=1, gamma=1, kernel=linear; total time=   0.3s\n",
      "[CV 4/5] END ....................C=1, gamma=1, kernel=linear; total time=   1.0s\n",
      "[CV 5/5] END ....................C=1, gamma=1, kernel=linear; total time=   0.9s\n",
      "[CV 1/5] END ..................C=1, gamma=0.1, kernel=linear; total time=   0.6s\n",
      "[CV 2/5] END ..................C=1, gamma=0.1, kernel=linear; total time=   0.9s\n",
      "[CV 3/5] END ..................C=1, gamma=0.1, kernel=linear; total time=   0.3s\n",
      "[CV 4/5] END ..................C=1, gamma=0.1, kernel=linear; total time=   1.1s\n",
      "[CV 5/5] END ..................C=1, gamma=0.1, kernel=linear; total time=   1.2s\n",
      "[CV 1/5] END .................C=1, gamma=0.01, kernel=linear; total time=   0.7s\n",
      "[CV 2/5] END .................C=1, gamma=0.01, kernel=linear; total time=   0.9s\n",
      "[CV 3/5] END .................C=1, gamma=0.01, kernel=linear; total time=   0.4s\n",
      "[CV 4/5] END .................C=1, gamma=0.01, kernel=linear; total time=   1.3s\n",
      "[CV 5/5] END .................C=1, gamma=0.01, kernel=linear; total time=   1.1s\n",
      "[CV 1/5] END ................C=1, gamma=0.001, kernel=linear; total time=   0.8s\n",
      "[CV 2/5] END ................C=1, gamma=0.001, kernel=linear; total time=   0.8s\n",
      "[CV 3/5] END ................C=1, gamma=0.001, kernel=linear; total time=   0.6s\n",
      "[CV 4/5] END ................C=1, gamma=0.001, kernel=linear; total time=   1.0s\n",
      "[CV 5/5] END ................C=1, gamma=0.001, kernel=linear; total time=   0.9s\n",
      "[CV 1/5] END ...............C=1, gamma=0.0001, kernel=linear; total time=   0.7s\n",
      "[CV 2/5] END ...............C=1, gamma=0.0001, kernel=linear; total time=   0.9s\n",
      "[CV 3/5] END ...............C=1, gamma=0.0001, kernel=linear; total time=   0.3s\n",
      "[CV 4/5] END ...............C=1, gamma=0.0001, kernel=linear; total time=   1.3s\n",
      "[CV 5/5] END ...............C=1, gamma=0.0001, kernel=linear; total time=   1.1s\n",
      "[CV 1/5] END ...................C=10, gamma=1, kernel=linear; total time=   8.7s\n",
      "[CV 2/5] END ...................C=10, gamma=1, kernel=linear; total time=   1.8s\n",
      "[CV 3/5] END ...................C=10, gamma=1, kernel=linear; total time=   3.8s\n",
      "[CV 4/5] END ...................C=10, gamma=1, kernel=linear; total time=   2.5s\n",
      "[CV 5/5] END ...................C=10, gamma=1, kernel=linear; total time=   1.2s\n",
      "[CV 1/5] END .................C=10, gamma=0.1, kernel=linear; total time=   8.0s\n",
      "[CV 2/5] END .................C=10, gamma=0.1, kernel=linear; total time=   1.8s\n",
      "[CV 3/5] END .................C=10, gamma=0.1, kernel=linear; total time=   3.8s\n",
      "[CV 4/5] END .................C=10, gamma=0.1, kernel=linear; total time=   2.5s\n",
      "[CV 5/5] END .................C=10, gamma=0.1, kernel=linear; total time=   1.2s\n",
      "[CV 1/5] END ................C=10, gamma=0.01, kernel=linear; total time=   8.5s\n",
      "[CV 2/5] END ................C=10, gamma=0.01, kernel=linear; total time=   2.1s\n",
      "[CV 3/5] END ................C=10, gamma=0.01, kernel=linear; total time=   4.2s\n",
      "[CV 4/5] END ................C=10, gamma=0.01, kernel=linear; total time=   2.7s\n",
      "[CV 5/5] END ................C=10, gamma=0.01, kernel=linear; total time=   1.3s\n",
      "[CV 1/5] END ...............C=10, gamma=0.001, kernel=linear; total time=   9.8s\n",
      "[CV 2/5] END ...............C=10, gamma=0.001, kernel=linear; total time=   2.3s\n",
      "[CV 3/5] END ...............C=10, gamma=0.001, kernel=linear; total time=   4.5s\n",
      "[CV 4/5] END ...............C=10, gamma=0.001, kernel=linear; total time=   2.7s\n",
      "[CV 5/5] END ...............C=10, gamma=0.001, kernel=linear; total time=   1.4s\n",
      "[CV 1/5] END ..............C=10, gamma=0.0001, kernel=linear; total time=  10.6s\n",
      "[CV 2/5] END ..............C=10, gamma=0.0001, kernel=linear; total time=   2.1s\n",
      "[CV 3/5] END ..............C=10, gamma=0.0001, kernel=linear; total time=   4.3s\n",
      "[CV 4/5] END ..............C=10, gamma=0.0001, kernel=linear; total time=   2.8s\n",
      "[CV 5/5] END ..............C=10, gamma=0.0001, kernel=linear; total time=   1.4s\n",
      "[CV 1/5] END ..................C=100, gamma=1, kernel=linear; total time=  10.1s\n",
      "[CV 2/5] END ..................C=100, gamma=1, kernel=linear; total time=   4.0s\n",
      "[CV 3/5] END ..................C=100, gamma=1, kernel=linear; total time=   8.6s\n",
      "[CV 4/5] END ..................C=100, gamma=1, kernel=linear; total time=   2.0s\n",
      "[CV 5/5] END ..................C=100, gamma=1, kernel=linear; total time=   3.5s\n",
      "[CV 1/5] END ................C=100, gamma=0.1, kernel=linear; total time=  10.0s\n",
      "[CV 2/5] END ................C=100, gamma=0.1, kernel=linear; total time=   3.9s\n",
      "[CV 3/5] END ................C=100, gamma=0.1, kernel=linear; total time=   8.5s\n",
      "[CV 4/5] END ................C=100, gamma=0.1, kernel=linear; total time=   2.0s\n",
      "[CV 5/5] END ................C=100, gamma=0.1, kernel=linear; total time=   3.5s\n",
      "[CV 1/5] END ...............C=100, gamma=0.01, kernel=linear; total time=  10.0s\n",
      "[CV 2/5] END ...............C=100, gamma=0.01, kernel=linear; total time=   4.0s\n",
      "[CV 3/5] END ...............C=100, gamma=0.01, kernel=linear; total time=   8.5s\n",
      "[CV 4/5] END ...............C=100, gamma=0.01, kernel=linear; total time=   2.0s\n",
      "[CV 5/5] END ...............C=100, gamma=0.01, kernel=linear; total time=   3.4s\n",
      "[CV 1/5] END ..............C=100, gamma=0.001, kernel=linear; total time=  10.1s\n",
      "[CV 2/5] END ..............C=100, gamma=0.001, kernel=linear; total time=   4.1s\n",
      "[CV 3/5] END ..............C=100, gamma=0.001, kernel=linear; total time=   8.6s\n",
      "[CV 4/5] END ..............C=100, gamma=0.001, kernel=linear; total time=   2.1s\n",
      "[CV 5/5] END ..............C=100, gamma=0.001, kernel=linear; total time=   3.5s\n",
      "[CV 1/5] END .............C=100, gamma=0.0001, kernel=linear; total time=  10.0s\n",
      "[CV 2/5] END .............C=100, gamma=0.0001, kernel=linear; total time=   3.9s\n",
      "[CV 3/5] END .............C=100, gamma=0.0001, kernel=linear; total time=   8.4s\n",
      "[CV 4/5] END .............C=100, gamma=0.0001, kernel=linear; total time=   2.1s\n",
      "[CV 5/5] END .............C=100, gamma=0.0001, kernel=linear; total time=   3.5s\n",
      "[CV 1/5] END .................C=1000, gamma=1, kernel=linear; total time=  15.1s\n"
     ]
    },
    {
     "name": "stdout",
     "output_type": "stream",
     "text": [
      "[CV 2/5] END .................C=1000, gamma=1, kernel=linear; total time=   7.5s\n",
      "[CV 3/5] END .................C=1000, gamma=1, kernel=linear; total time=   9.1s\n",
      "[CV 4/5] END .................C=1000, gamma=1, kernel=linear; total time=   1.2s\n",
      "[CV 5/5] END .................C=1000, gamma=1, kernel=linear; total time=  10.3s\n",
      "[CV 1/5] END ...............C=1000, gamma=0.1, kernel=linear; total time=  14.0s\n",
      "[CV 2/5] END ...............C=1000, gamma=0.1, kernel=linear; total time=   7.6s\n",
      "[CV 3/5] END ...............C=1000, gamma=0.1, kernel=linear; total time=   9.1s\n",
      "[CV 4/5] END ...............C=1000, gamma=0.1, kernel=linear; total time=   1.3s\n",
      "[CV 5/5] END ...............C=1000, gamma=0.1, kernel=linear; total time=  11.3s\n",
      "[CV 1/5] END ..............C=1000, gamma=0.01, kernel=linear; total time=  14.2s\n",
      "[CV 2/5] END ..............C=1000, gamma=0.01, kernel=linear; total time=   7.4s\n",
      "[CV 3/5] END ..............C=1000, gamma=0.01, kernel=linear; total time=   8.9s\n",
      "[CV 4/5] END ..............C=1000, gamma=0.01, kernel=linear; total time=   1.3s\n",
      "[CV 5/5] END ..............C=1000, gamma=0.01, kernel=linear; total time=  10.3s\n",
      "[CV 1/5] END .............C=1000, gamma=0.001, kernel=linear; total time=  14.5s\n",
      "[CV 2/5] END .............C=1000, gamma=0.001, kernel=linear; total time=   7.6s\n",
      "[CV 3/5] END .............C=1000, gamma=0.001, kernel=linear; total time=   9.1s\n",
      "[CV 4/5] END .............C=1000, gamma=0.001, kernel=linear; total time=   1.3s\n",
      "[CV 5/5] END .............C=1000, gamma=0.001, kernel=linear; total time=  10.3s\n",
      "[CV 1/5] END ............C=1000, gamma=0.0001, kernel=linear; total time=  14.3s\n",
      "[CV 2/5] END ............C=1000, gamma=0.0001, kernel=linear; total time=   7.6s\n",
      "[CV 3/5] END ............C=1000, gamma=0.0001, kernel=linear; total time=   9.3s\n",
      "[CV 4/5] END ............C=1000, gamma=0.0001, kernel=linear; total time=   1.3s\n",
      "[CV 5/5] END ............C=1000, gamma=0.0001, kernel=linear; total time=  10.4s\n"
     ]
    },
    {
     "data": {
      "text/plain": [
       "GridSearchCV(estimator=SVC(),\n",
       "             param_grid={'C': [0.1, 1, 10, 100, 1000],\n",
       "                         'gamma': [1, 0.1, 0.01, 0.001, 0.0001],\n",
       "                         'kernel': ['linear']},\n",
       "             verbose=3)"
      ]
     },
     "execution_count": 26,
     "metadata": {},
     "output_type": "execute_result"
    }
   ],
   "source": [
    "from sklearn.model_selection import GridSearchCV\n",
    "\n",
    "param_grid ={\"C\":[0.1,1,10,100,1000],\n",
    "            'gamma':[1,0.1,0.01,0.001,0.0001],\n",
    "            'kernel':['linear']}\n",
    "\n",
    "grid = GridSearchCV(SVC(),param_grid,refit=True,verbose=3)\n",
    "grid.fit(X_train,y_train)"
   ]
  },
  {
   "cell_type": "code",
   "execution_count": 27,
   "metadata": {},
   "outputs": [
    {
     "name": "stdout",
     "output_type": "stream",
     "text": [
      "{'C': 1000, 'gamma': 1, 'kernel': 'linear'}\n",
      "SVC(C=1000, gamma=1, kernel='linear')\n"
     ]
    }
   ],
   "source": [
    "print(grid.best_params_)\n",
    "print(grid.best_estimator_)"
   ]
  },
  {
   "cell_type": "code",
   "execution_count": 28,
   "metadata": {},
   "outputs": [
    {
     "name": "stdout",
     "output_type": "stream",
     "text": [
      "[[74  5]\n",
      " [ 1 34]]\n",
      "accuracy: 0.9473684210526315\n",
      "F1 score: 0.9189189189189189\n"
     ]
    }
   ],
   "source": [
    "y_predictions = grid.predict(X_test)\n",
    "print(confusion_matrix(y_test,y_predictions))\n",
    "print(\"accuracy:\",accuracy_score(y_test,y_predictions))\n",
    "print('F1 score:',f1_score(y_test,y_predictions))"
   ]
  },
  {
   "cell_type": "markdown",
   "metadata": {},
   "source": [
    "## Decision Tree"
   ]
  },
  {
   "cell_type": "code",
   "execution_count": 26,
   "metadata": {},
   "outputs": [
    {
     "data": {
      "text/plain": [
       "DecisionTreeClassifier(criterion='entropy', random_state=0)"
      ]
     },
     "execution_count": 26,
     "metadata": {},
     "output_type": "execute_result"
    }
   ],
   "source": [
    "from sklearn.tree import DecisionTreeClassifier\n",
    "classifier = DecisionTreeClassifier(criterion='entropy',random_state=0)\n",
    "classifier.fit(X_train,y_train)"
   ]
  },
  {
   "cell_type": "code",
   "execution_count": 27,
   "metadata": {},
   "outputs": [],
   "source": [
    "train_predictions = classifier.predict(X_train)\n",
    "test_predictions = classifier.predict(X_test)"
   ]
  },
  {
   "cell_type": "code",
   "execution_count": 28,
   "metadata": {},
   "outputs": [
    {
     "name": "stdout",
     "output_type": "stream",
     "text": [
      "Confusion matrix for training set: \n",
      " [[278   0]\n",
      " [  0 177]]\n",
      "\n",
      " Train Data accuracy 1.0\n",
      "\n",
      " Train Data f1-score for class 1  1.0\n",
      "\n",
      " Train Data f1-score for class 0  1.0\n",
      "\n",
      "\n",
      " ------------------------------- \n",
      "\n",
      "\n",
      "Confusion matrix for test set: \n",
      " [[73  6]\n",
      " [ 0 35]]\n",
      "\n",
      " Test Data accuracy 0.9473684210526315\n",
      "\n",
      " Test Data f1-score for class 1  0.9210526315789475\n",
      "\n",
      " Test Data f1-score for class 0  0.9605263157894737\n"
     ]
    }
   ],
   "source": [
    "from sklearn.metrics import f1_score,accuracy_score\n",
    "\n",
    "# Metrics for Training set\n",
    "print('Confusion matrix for training set: \\n',confusion_matrix(y_train,train_predictions))\n",
    "print('\\n Train Data accuracy',accuracy_score(y_train,train_predictions))\n",
    "print('\\n Train Data f1-score for class 1 ',f1_score(y_train,train_predictions,pos_label=1))\n",
    "print('\\n Train Data f1-score for class 0 ',f1_score(y_train,train_predictions,pos_label=0))\n",
    "\n",
    "# Metrics for Test set\n",
    "print('\\n\\n ------------------------------- \\n\\n')\n",
    "print('Confusion matrix for test set: \\n',confusion_matrix(y_test,test_predictions))\n",
    "print('\\n Test Data accuracy',accuracy_score(y_test,test_predictions))\n",
    "print('\\n Test Data f1-score for class 1 ',f1_score(y_test,test_predictions,pos_label=1))\n",
    "print('\\n Test Data f1-score for class 0 ',f1_score(y_test,test_predictions,pos_label=0))"
   ]
  },
  {
   "cell_type": "markdown",
   "metadata": {},
   "source": [
    "##  Naive Bayes"
   ]
  },
  {
   "cell_type": "code",
   "execution_count": 34,
   "metadata": {},
   "outputs": [
    {
     "data": {
      "text/plain": [
       "GaussianNB()"
      ]
     },
     "execution_count": 34,
     "metadata": {},
     "output_type": "execute_result"
    }
   ],
   "source": [
    "from sklearn.naive_bayes import GaussianNB\n",
    "classifier = GaussianNB()\n",
    "classifier.fit(X_train,y_train)"
   ]
  },
  {
   "cell_type": "code",
   "execution_count": 36,
   "metadata": {},
   "outputs": [],
   "source": [
    "train_predictions = classifier.predict(X_train)\n",
    "test_preddictions = classifier.predict(X_test)"
   ]
  },
  {
   "cell_type": "code",
   "execution_count": 37,
   "metadata": {},
   "outputs": [
    {
     "name": "stdout",
     "output_type": "stream",
     "text": [
      "Confusion matrix for training set: \n",
      " [[269   9]\n",
      " [ 19 158]]\n",
      "\n",
      " Train Data accuracy 0.9384615384615385\n",
      "\n",
      " Train Data f1-score for class 1  0.9186046511627907\n",
      "\n",
      " Train Data f1-score for class 0  0.9505300353356889\n",
      "\n",
      "\n",
      " ------------------------------- \n",
      "\n",
      "\n",
      "Confusion matrix for test set: \n",
      " [[73  6]\n",
      " [ 0 35]]\n",
      "\n",
      " Test Data accuracy 0.9473684210526315\n",
      "\n",
      " Test Data f1-score for class 1  0.9210526315789475\n",
      "\n",
      " Test Data f1-score for class 0  0.9605263157894737\n"
     ]
    }
   ],
   "source": [
    "# Metrics for Training set\n",
    "print('Confusion matrix for training set: \\n',confusion_matrix(y_train,train_predictions))\n",
    "print('\\n Train Data accuracy',accuracy_score(y_train,train_predictions))\n",
    "print('\\n Train Data f1-score for class 1 ',f1_score(y_train,train_predictions,pos_label=1))\n",
    "print('\\n Train Data f1-score for class 0 ',f1_score(y_train,train_predictions,pos_label=0))\n",
    "\n",
    "# Metrics for Test set\n",
    "print('\\n\\n ------------------------------- \\n\\n')\n",
    "print('Confusion matrix for test set: \\n',confusion_matrix(y_test,test_predictions))\n",
    "print('\\n Test Data accuracy',accuracy_score(y_test,test_predictions))\n",
    "print('\\n Test Data f1-score for class 1 ',f1_score(y_test,test_predictions,pos_label=1))\n",
    "print('\\n Test Data f1-score for class 0 ',f1_score(y_test,test_predictions,pos_label=0))"
   ]
  },
  {
   "cell_type": "markdown",
   "metadata": {},
   "source": [
    "## Logistic Regression"
   ]
  },
  {
   "cell_type": "code",
   "execution_count": 42,
   "metadata": {},
   "outputs": [
    {
     "name": "stderr",
     "output_type": "stream",
     "text": [
      "C:\\Users\\euise\\anaconda3\\envs\\tf2.2-gpu\\lib\\site-packages\\sklearn\\linear_model\\_logistic.py:763: ConvergenceWarning: lbfgs failed to converge (status=1):\n",
      "STOP: TOTAL NO. of ITERATIONS REACHED LIMIT.\n",
      "\n",
      "Increase the number of iterations (max_iter) or scale the data as shown in:\n",
      "    https://scikit-learn.org/stable/modules/preprocessing.html\n",
      "Please also refer to the documentation for alternative solver options:\n",
      "    https://scikit-learn.org/stable/modules/linear_model.html#logistic-regression\n",
      "  n_iter_i = _check_optimize_result(\n"
     ]
    },
    {
     "data": {
      "text/plain": [
       "LogisticRegression(random_state=0)"
      ]
     },
     "execution_count": 42,
     "metadata": {},
     "output_type": "execute_result"
    }
   ],
   "source": [
    "from sklearn.linear_model import LogisticRegression\n",
    "classifier = LogisticRegression(random_state=0)\n",
    "classifier.fit(X_train,y_train)"
   ]
  },
  {
   "cell_type": "code",
   "execution_count": 43,
   "metadata": {},
   "outputs": [],
   "source": [
    "train_predictions = classifier.predict(X_train)\n",
    "test_preddictions = classifier.predict(X_test)"
   ]
  },
  {
   "cell_type": "code",
   "execution_count": 44,
   "metadata": {},
   "outputs": [
    {
     "name": "stdout",
     "output_type": "stream",
     "text": [
      "Confusion matrix for training set: \n",
      " [[268  10]\n",
      " [ 15 162]]\n",
      "\n",
      " Train Data accuracy 0.945054945054945\n",
      "\n",
      " Train Data f1-score for class 1  0.9283667621776504\n",
      "\n",
      " Train Data f1-score for class 0  0.9554367201426025\n",
      "\n",
      "\n",
      " ------------------------------- \n",
      "\n",
      "\n",
      "Confusion matrix for test set: \n",
      " [[73  6]\n",
      " [ 0 35]]\n",
      "\n",
      " Test Data accuracy 0.9473684210526315\n",
      "\n",
      " Test Data f1-score for class 1  0.9210526315789475\n",
      "\n",
      " Test Data f1-score for class 0  0.9605263157894737\n"
     ]
    }
   ],
   "source": [
    "# Metrics for Training set\n",
    "print('Confusion matrix for training set: \\n',confusion_matrix(y_train,train_predictions))\n",
    "print('\\n Train Data accuracy',accuracy_score(y_train,train_predictions))\n",
    "print('\\n Train Data f1-score for class 1 ',f1_score(y_train,train_predictions,pos_label=1))\n",
    "print('\\n Train Data f1-score for class 0 ',f1_score(y_train,train_predictions,pos_label=0))\n",
    "\n",
    "# Metrics for Test set\n",
    "print('\\n\\n ------------------------------- \\n\\n')\n",
    "print('Confusion matrix for test set: \\n',confusion_matrix(y_test,test_predictions))\n",
    "print('\\n Test Data accuracy',accuracy_score(y_test,test_predictions))\n",
    "print('\\n Test Data f1-score for class 1 ',f1_score(y_test,test_predictions,pos_label=1))\n",
    "print('\\n Test Data f1-score for class 0 ',f1_score(y_test,test_predictions,pos_label=0))"
   ]
  },
  {
   "cell_type": "markdown",
   "metadata": {},
   "source": [
    "## Random Forest Classifier"
   ]
  },
  {
   "cell_type": "code",
   "execution_count": 26,
   "metadata": {},
   "outputs": [
    {
     "data": {
      "text/plain": [
       "RandomForestClassifier(criterion='entropy', n_estimators=10, random_state=0)"
      ]
     },
     "execution_count": 26,
     "metadata": {},
     "output_type": "execute_result"
    }
   ],
   "source": [
    "from sklearn.ensemble import RandomForestClassifier\n",
    "classifier = RandomForestClassifier(n_estimators=10,criterion='entropy',random_state=0)\n",
    "classifier.fit(X_train,y_train)"
   ]
  },
  {
   "cell_type": "code",
   "execution_count": 31,
   "metadata": {},
   "outputs": [],
   "source": [
    "train_predictions = classifier.predict(X_train)\n",
    "test_predictions = classifier.predict(X_test)"
   ]
  },
  {
   "cell_type": "code",
   "execution_count": 32,
   "metadata": {},
   "outputs": [
    {
     "name": "stdout",
     "output_type": "stream",
     "text": [
      "Confusion matrix for training set: \n",
      " [[278   0]\n",
      " [  0 177]]\n",
      "\n",
      " Train Data accuracy 1.0\n",
      "\n",
      " Train Data f1-score for class 1  1.0\n",
      "\n",
      " Train Data f1-score for class 0  1.0\n",
      "\n",
      "\n",
      " ------------------------------- \n",
      "\n",
      "\n",
      "Confusion matrix for test set: \n",
      " [[78  1]\n",
      " [ 3 32]]\n",
      "\n",
      " Test Data accuracy 0.9649122807017544\n",
      "\n",
      " Test Data f1-score for class 1  0.9411764705882354\n",
      "\n",
      " Test Data f1-score for class 0  0.975\n"
     ]
    }
   ],
   "source": [
    "# Metrics for Training set\n",
    "print('Confusion matrix for training set: \\n',confusion_matrix(y_train,train_predictions))\n",
    "print('\\n Train Data accuracy',accuracy_score(y_train,train_predictions))\n",
    "print('\\n Train Data f1-score for class 1 ',f1_score(y_train,train_predictions,pos_label=1))\n",
    "print('\\n Train Data f1-score for class 0 ',f1_score(y_train,train_predictions,pos_label=0))\n",
    "\n",
    "# Metrics for Test set\n",
    "print('\\n\\n ------------------------------- \\n\\n')\n",
    "print('Confusion matrix for test set: \\n',confusion_matrix(y_test,test_predictions))\n",
    "print('\\n Test Data accuracy',accuracy_score(y_test,test_predictions))\n",
    "print('\\n Test Data f1-score for class 1 ',f1_score(y_test,test_predictions,pos_label=1))\n",
    "print('\\n Test Data f1-score for class 0 ',f1_score(y_test,test_predictions,pos_label=0))"
   ]
  },
  {
   "cell_type": "markdown",
   "metadata": {},
   "source": [
    "## XG Boost"
   ]
  },
  {
   "cell_type": "code",
   "execution_count": 33,
   "metadata": {},
   "outputs": [],
   "source": [
    "from numpy import loadtxt\n",
    "from xgboost import XGBClassifier\n",
    "from sklearn.model_selection import train_test_split\n",
    "from sklearn.metrics import accuracy_score"
   ]
  },
  {
   "cell_type": "code",
   "execution_count": 34,
   "metadata": {},
   "outputs": [
    {
     "name": "stderr",
     "output_type": "stream",
     "text": [
      "C:\\Users\\euise\\anaconda3\\envs\\tf2.2-gpu\\lib\\site-packages\\xgboost\\sklearn.py:1146: UserWarning: The use of label encoder in XGBClassifier is deprecated and will be removed in a future release. To remove this warning, do the following: 1) Pass option use_label_encoder=False when constructing XGBClassifier object; and 2) Encode your labels (y) as integers starting with 0, i.e. 0, 1, 2, ..., [num_class - 1].\n",
      "  warnings.warn(label_encoder_deprecation_msg, UserWarning)\n"
     ]
    },
    {
     "name": "stdout",
     "output_type": "stream",
     "text": [
      "[00:15:34] WARNING: C:/Users/Administrator/workspace/xgboost-win64_release_1.4.0/src/learner.cc:1095: Starting in XGBoost 1.3.0, the default evaluation metric used with the objective 'binary:logistic' was changed from 'error' to 'logloss'. Explicitly set eval_metric if you'd like to restore the old behavior.\n"
     ]
    },
    {
     "data": {
      "text/plain": [
       "XGBClassifier(base_score=0.5, booster='gbtree', colsample_bylevel=1,\n",
       "              colsample_bynode=1, colsample_bytree=1, gamma=0, gpu_id=-1,\n",
       "              importance_type='gain', interaction_constraints='',\n",
       "              learning_rate=0.300000012, max_delta_step=0, max_depth=6,\n",
       "              min_child_weight=1, missing=nan, monotone_constraints='()',\n",
       "              n_estimators=100, n_jobs=8, num_parallel_tree=1, random_state=0,\n",
       "              reg_alpha=0, reg_lambda=1, scale_pos_weight=1, subsample=1,\n",
       "              tree_method='exact', validate_parameters=1, verbosity=None)"
      ]
     },
     "execution_count": 34,
     "metadata": {},
     "output_type": "execute_result"
    }
   ],
   "source": [
    "model = XGBClassifier()\n",
    "model.fit(X_train,y_train)"
   ]
  },
  {
   "cell_type": "code",
   "execution_count": 35,
   "metadata": {},
   "outputs": [],
   "source": [
    "train_predictions = classifier.predict(X_train)\n",
    "test_predictions = classifier.predict(X_test)"
   ]
  },
  {
   "cell_type": "code",
   "execution_count": 36,
   "metadata": {},
   "outputs": [
    {
     "name": "stdout",
     "output_type": "stream",
     "text": [
      "Confusion matrix for training set: \n",
      " [[278   0]\n",
      " [  0 177]]\n",
      "\n",
      " Train Data accuracy 1.0\n",
      "\n",
      " Train Data f1-score for class 1  1.0\n",
      "\n",
      " Train Data f1-score for class 0  1.0\n",
      "\n",
      "\n",
      " ------------------------------- \n",
      "\n",
      "\n",
      "Confusion matrix for test set: \n",
      " [[78  1]\n",
      " [ 3 32]]\n",
      "\n",
      " Test Data accuracy 0.9649122807017544\n",
      "\n",
      " Test Data f1-score for class 1  0.9411764705882354\n",
      "\n",
      " Test Data f1-score for class 0  0.975\n"
     ]
    }
   ],
   "source": [
    "# Metrics for Training set\n",
    "print('Confusion matrix for training set: \\n',confusion_matrix(y_train,train_predictions))\n",
    "print('\\n Train Data accuracy',accuracy_score(y_train,train_predictions))\n",
    "print('\\n Train Data f1-score for class 1 ',f1_score(y_train,train_predictions,pos_label=1))\n",
    "print('\\n Train Data f1-score for class 0 ',f1_score(y_train,train_predictions,pos_label=0))\n",
    "\n",
    "# Metrics for Test set\n",
    "print('\\n\\n ------------------------------- \\n\\n')\n",
    "print('Confusion matrix for test set: \\n',confusion_matrix(y_test,test_predictions))\n",
    "print('\\n Test Data accuracy',accuracy_score(y_test,test_predictions))\n",
    "print('\\n Test Data f1-score for class 1 ',f1_score(y_test,test_predictions,pos_label=1))\n",
    "print('\\n Test Data f1-score for class 0 ',f1_score(y_test,test_predictions,pos_label=0))"
   ]
  },
  {
   "cell_type": "markdown",
   "metadata": {},
   "source": [
    "## Logistic regression"
   ]
  },
  {
   "cell_type": "code",
   "execution_count": 47,
   "metadata": {},
   "outputs": [],
   "source": [
    "from sklearn import linear_model\n",
    "from sklearn.linear_model import LogisticRegression\n"
   ]
  },
  {
   "cell_type": "code",
   "execution_count": 48,
   "metadata": {},
   "outputs": [],
   "source": [
    "classifier = linear_model.LogisticRegression()"
   ]
  },
  {
   "cell_type": "code",
   "execution_count": 49,
   "metadata": {},
   "outputs": [
    {
     "name": "stderr",
     "output_type": "stream",
     "text": [
      "C:\\Users\\euise\\anaconda3\\envs\\tf2.2-gpu\\lib\\site-packages\\sklearn\\linear_model\\_logistic.py:763: ConvergenceWarning: lbfgs failed to converge (status=1):\n",
      "STOP: TOTAL NO. of ITERATIONS REACHED LIMIT.\n",
      "\n",
      "Increase the number of iterations (max_iter) or scale the data as shown in:\n",
      "    https://scikit-learn.org/stable/modules/preprocessing.html\n",
      "Please also refer to the documentation for alternative solver options:\n",
      "    https://scikit-learn.org/stable/modules/linear_model.html#logistic-regression\n",
      "  n_iter_i = _check_optimize_result(\n"
     ]
    },
    {
     "data": {
      "text/plain": [
       "LogisticRegression()"
      ]
     },
     "execution_count": 49,
     "metadata": {},
     "output_type": "execute_result"
    }
   ],
   "source": [
    "classifier.fit(X_train,y_train)"
   ]
  },
  {
   "cell_type": "code",
   "execution_count": 50,
   "metadata": {},
   "outputs": [],
   "source": [
    "train_predictions = classifier.predict(X_train)\n",
    "test_predictions = classifier.predict(X_test)"
   ]
  },
  {
   "cell_type": "code",
   "execution_count": 51,
   "metadata": {},
   "outputs": [
    {
     "data": {
      "text/plain": [
       "array([1, 0, 0, 0, 1, 1, 0, 0, 1, 0, 1, 1, 0, 0, 0, 0, 0, 1, 1, 0, 1, 0,\n",
       "       0, 0, 1, 0, 1, 1, 0, 1, 0, 0, 1, 0, 0, 1, 1, 1, 0, 1, 0, 1, 0, 0,\n",
       "       1, 1, 0, 0, 0, 0, 0, 0, 0, 0, 0, 0, 1, 1, 0, 1, 0, 0, 1, 1, 0, 1,\n",
       "       0, 0, 1, 1, 0, 1, 0, 0, 0, 0, 0, 0, 1, 0, 0, 1, 0, 1, 1, 0, 0, 0,\n",
       "       1, 0, 0, 0, 1, 0, 0, 1, 1, 0, 0, 1, 0, 0, 1, 0, 0, 0, 0, 1, 1, 0,\n",
       "       0, 0, 0, 0, 0, 1, 1, 0, 0, 0, 0, 0, 0, 0, 0, 1, 1, 0, 0, 0, 0, 1,\n",
       "       1, 0, 0, 1, 0, 1, 0, 0, 0, 0, 0, 1, 0, 0, 0, 0, 0, 0, 0, 1, 0, 0,\n",
       "       0, 1, 0, 0, 1, 1, 0, 1, 1, 0, 0, 1, 0, 0, 0, 0, 1, 1, 0, 1, 1, 1,\n",
       "       0, 1, 1, 1, 0, 0, 1, 0, 1, 0, 0, 0, 1, 0, 0, 1, 1, 0, 0, 0, 0, 1,\n",
       "       0, 1, 0, 0, 0, 1, 1, 0, 0, 0, 1, 0, 0, 1, 0, 1, 0, 0, 1, 1, 1, 0,\n",
       "       0, 0, 0, 1, 0, 1, 1, 0, 1, 1, 0, 0, 1, 0, 0, 0, 1, 0, 0, 0, 1, 1,\n",
       "       0, 0, 1, 1, 1, 1, 1, 0, 1, 1, 1, 1, 0, 0, 1, 1, 0, 0, 1, 0, 1, 0,\n",
       "       1, 0, 0, 0, 1, 0, 1, 0, 0, 0, 1, 1, 0, 0, 1, 0, 0, 0, 0, 0, 1, 0,\n",
       "       1, 0, 1, 1, 1, 1, 1, 0, 0, 0, 0, 1, 1, 0, 0, 1, 0, 1, 1, 0, 0, 1,\n",
       "       1, 0, 0, 1, 1, 0, 1, 0, 0, 1, 0, 0, 1, 1, 0, 0, 0, 0, 1, 0, 0, 1,\n",
       "       0, 0, 0, 1, 0, 1, 0, 0, 0, 0, 0, 1, 1, 0, 0, 0, 1, 0, 0, 0, 1, 0,\n",
       "       1, 0, 0, 0, 0, 0, 1, 0, 0, 1, 1, 0, 0, 0, 0, 0, 0, 0, 1, 0, 0, 1,\n",
       "       1, 1, 0, 1, 0, 0, 0, 0, 0, 0, 0, 1, 0, 0, 1, 0, 1, 1, 1, 0, 0, 0,\n",
       "       0, 1, 0, 0, 0, 1, 0, 0, 0, 1, 0, 0, 1, 0, 0, 0, 1, 1, 0, 1, 0, 0,\n",
       "       1, 0, 0, 1, 0, 0, 0, 1, 0, 1, 1, 1, 0, 0, 0, 1, 1, 1, 0, 0, 0, 1,\n",
       "       1, 0, 0, 1, 0, 1, 0, 0, 0, 0, 0, 1, 0, 0, 0], dtype=int64)"
      ]
     },
     "execution_count": 51,
     "metadata": {},
     "output_type": "execute_result"
    }
   ],
   "source": [
    "train_predictions"
   ]
  },
  {
   "cell_type": "code",
   "execution_count": 52,
   "metadata": {},
   "outputs": [
    {
     "name": "stdout",
     "output_type": "stream",
     "text": [
      "Confusion matrix for training set: \n",
      " [[268  10]\n",
      " [ 15 162]]\n",
      "\n",
      " Train Data accuracy 0.945054945054945\n",
      "\n",
      " Train Data f1-score for class 1  0.9283667621776504\n",
      "\n",
      " Train Data f1-score for class 0  0.9554367201426025\n",
      "\n",
      "\n",
      " ------------------------------- \n",
      "\n",
      "\n",
      "Confusion matrix for test set: \n",
      " [[74  5]\n",
      " [ 3 32]]\n",
      "\n",
      " Test Data accuracy 0.9298245614035088\n",
      "\n",
      " Test Data f1-score for class 1  0.888888888888889\n",
      "\n",
      " Test Data f1-score for class 0  0.9487179487179488\n"
     ]
    }
   ],
   "source": [
    "# Metrics for Training set\n",
    "print('Confusion matrix for training set: \\n',confusion_matrix(y_train,train_predictions))\n",
    "print('\\n Train Data accuracy',accuracy_score(y_train,train_predictions))\n",
    "print('\\n Train Data f1-score for class 1 ',f1_score(y_train,train_predictions,pos_label=1))\n",
    "print('\\n Train Data f1-score for class 0 ',f1_score(y_train,train_predictions,pos_label=0))\n",
    "\n",
    "# Metrics for Test set\n",
    "print('\\n\\n ------------------------------- \\n\\n')\n",
    "print('Confusion matrix for test set: \\n',confusion_matrix(y_test,test_predictions))\n",
    "print('\\n Test Data accuracy',accuracy_score(y_test,test_predictions))\n",
    "print('\\n Test Data f1-score for class 1 ',f1_score(y_test,test_predictions,pos_label=1))\n",
    "print('\\n Test Data f1-score for class 0 ',f1_score(y_test,test_predictions,pos_label=0))"
   ]
  },
  {
   "cell_type": "markdown",
   "metadata": {},
   "source": [
    "## K-nearest neighbor"
   ]
  },
  {
   "cell_type": "code",
   "execution_count": 53,
   "metadata": {},
   "outputs": [],
   "source": [
    "from sklearn.neighbors import KNeighborsClassifier\n"
   ]
  },
  {
   "cell_type": "code",
   "execution_count": 57,
   "metadata": {},
   "outputs": [],
   "source": [
    "classifier = KNeighborsClassifier(n_neighbors=7)"
   ]
  },
  {
   "cell_type": "code",
   "execution_count": 58,
   "metadata": {},
   "outputs": [
    {
     "data": {
      "text/plain": [
       "KNeighborsClassifier(n_neighbors=7)"
      ]
     },
     "execution_count": 58,
     "metadata": {},
     "output_type": "execute_result"
    }
   ],
   "source": [
    "classifier.fit(X_train,y_train)"
   ]
  },
  {
   "cell_type": "code",
   "execution_count": 59,
   "metadata": {},
   "outputs": [],
   "source": [
    "train_predictions = classifier.predict(X_train)\n",
    "test_predictions = classifier.predict(X_test)"
   ]
  },
  {
   "cell_type": "code",
   "execution_count": 60,
   "metadata": {},
   "outputs": [
    {
     "name": "stdout",
     "output_type": "stream",
     "text": [
      "Confusion matrix for training set: \n",
      " [[268  10]\n",
      " [ 17 160]]\n",
      "\n",
      " Train Data accuracy 0.9406593406593406\n",
      "\n",
      " Train Data f1-score for class 1  0.9221902017291066\n",
      "\n",
      " Train Data f1-score for class 0  0.9520426287744227\n",
      "\n",
      "\n",
      " ------------------------------- \n",
      "\n",
      "\n",
      "Confusion matrix for test set: \n",
      " [[77  2]\n",
      " [ 3 32]]\n",
      "\n",
      " Test Data accuracy 0.956140350877193\n",
      "\n",
      " Test Data f1-score for class 1  0.9275362318840579\n",
      "\n",
      " Test Data f1-score for class 0  0.9685534591194969\n"
     ]
    }
   ],
   "source": [
    "# Metrics for Training set\n",
    "print('Confusion matrix for training set: \\n',confusion_matrix(y_train,train_predictions))\n",
    "print('\\n Train Data accuracy',accuracy_score(y_train,train_predictions))\n",
    "print('\\n Train Data f1-score for class 1 ',f1_score(y_train,train_predictions,pos_label=1))\n",
    "print('\\n Train Data f1-score for class 0 ',f1_score(y_train,train_predictions,pos_label=0))\n",
    "\n",
    "# Metrics for Test set\n",
    "print('\\n\\n ------------------------------- \\n\\n')\n",
    "print('Confusion matrix for test set: \\n',confusion_matrix(y_test,test_predictions))\n",
    "print('\\n Test Data accuracy',accuracy_score(y_test,test_predictions))\n",
    "print('\\n Test Data f1-score for class 1 ',f1_score(y_test,test_predictions,pos_label=1))\n",
    "print('\\n Test Data f1-score for class 0 ',f1_score(y_test,test_predictions,pos_label=0))"
   ]
  },
  {
   "cell_type": "markdown",
   "metadata": {},
   "source": [
    "## K means"
   ]
  },
  {
   "cell_type": "code",
   "execution_count": 61,
   "metadata": {},
   "outputs": [],
   "source": [
    "from sklearn.cluster import KMeans"
   ]
  },
  {
   "cell_type": "code",
   "execution_count": 64,
   "metadata": {},
   "outputs": [
    {
     "data": {
      "text/plain": [
       "KMeans(n_clusters=2)"
      ]
     },
     "execution_count": 64,
     "metadata": {},
     "output_type": "execute_result"
    }
   ],
   "source": [
    "classifier = KMeans(n_clusters=2)\n",
    "classifier.fit(X_train,y_train)"
   ]
  },
  {
   "cell_type": "code",
   "execution_count": 65,
   "metadata": {},
   "outputs": [],
   "source": [
    "train_predictions = classifier.predict(X_train)\n",
    "test_predictions = classifier.predict(X_test)"
   ]
  },
  {
   "cell_type": "code",
   "execution_count": 66,
   "metadata": {},
   "outputs": [
    {
     "name": "stdout",
     "output_type": "stream",
     "text": [
      "Confusion matrix for training set: \n",
      " [[277   1]\n",
      " [ 71 106]]\n",
      "\n",
      " Train Data accuracy 0.8417582417582418\n",
      "\n",
      " Train Data f1-score for class 1  0.7464788732394367\n",
      "\n",
      " Train Data f1-score for class 0  0.8849840255591056\n",
      "\n",
      "\n",
      " ------------------------------- \n",
      "\n",
      "\n",
      "Confusion matrix for test set: \n",
      " [[79  0]\n",
      " [11 24]]\n",
      "\n",
      " Test Data accuracy 0.9035087719298246\n",
      "\n",
      " Test Data f1-score for class 1  0.8135593220338984\n",
      "\n",
      " Test Data f1-score for class 0  0.9349112426035503\n"
     ]
    }
   ],
   "source": [
    "# Metrics for Training set\n",
    "print('Confusion matrix for training set: \\n',confusion_matrix(y_train,train_predictions))\n",
    "print('\\n Train Data accuracy',accuracy_score(y_train,train_predictions))\n",
    "print('\\n Train Data f1-score for class 1 ',f1_score(y_train,train_predictions,pos_label=1))\n",
    "print('\\n Train Data f1-score for class 0 ',f1_score(y_train,train_predictions,pos_label=0))\n",
    "\n",
    "# Metrics for Test set\n",
    "print('\\n\\n ------------------------------- \\n\\n')\n",
    "print('Confusion matrix for test set: \\n',confusion_matrix(y_test,test_predictions))\n",
    "print('\\n Test Data accuracy',accuracy_score(y_test,test_predictions))\n",
    "print('\\n Test Data f1-score for class 1 ',f1_score(y_test,test_predictions,pos_label=1))\n",
    "print('\\n Test Data f1-score for class 0 ',f1_score(y_test,test_predictions,pos_label=0))"
   ]
  },
  {
   "cell_type": "markdown",
   "metadata": {},
   "source": [
    "## RFECV "
   ]
  },
  {
   "cell_type": "code",
   "execution_count": 1,
   "metadata": {},
   "outputs": [],
   "source": [
    "from sklearn.feature_selection import RFECV"
   ]
  },
  {
   "cell_type": "code",
   "execution_count": 2,
   "metadata": {},
   "outputs": [
    {
     "ename": "NameError",
     "evalue": "name 'RandomForestClassifier' is not defined",
     "output_type": "error",
     "traceback": [
      "\u001b[1;31m---------------------------------------------------------------------------\u001b[0m",
      "\u001b[1;31mNameError\u001b[0m                                 Traceback (most recent call last)",
      "\u001b[1;32m<ipython-input-2-975cf25abf5e>\u001b[0m in \u001b[0;36m<module>\u001b[1;34m\u001b[0m\n\u001b[1;32m----> 1\u001b[1;33m \u001b[0mmodel\u001b[0m \u001b[1;33m=\u001b[0m \u001b[0mRandomForestClassifier\u001b[0m\u001b[1;33m(\u001b[0m\u001b[1;33m)\u001b[0m\u001b[1;33m\u001b[0m\u001b[1;33m\u001b[0m\u001b[0m\n\u001b[0m",
      "\u001b[1;31mNameError\u001b[0m: name 'RandomForestClassifier' is not defined"
     ]
    }
   ],
   "source": [
    "model = RandomForestClassifier()\n",
    "classifier = RandomForestClassifier(n_estimators=10,criterion='entropy',random_state=0)"
   ]
  },
  {
   "cell_type": "code",
   "execution_count": null,
   "metadata": {},
   "outputs": [],
   "source": []
  }
 ],
 "metadata": {
  "kernelspec": {
   "display_name": "Python 3",
   "language": "python",
   "name": "python3"
  },
  "language_info": {
   "codemirror_mode": {
    "name": "ipython",
    "version": 3
   },
   "file_extension": ".py",
   "mimetype": "text/x-python",
   "name": "python",
   "nbconvert_exporter": "python",
   "pygments_lexer": "ipython3",
   "version": "3.8.5"
  }
 },
 "nbformat": 4,
 "nbformat_minor": 4
}
